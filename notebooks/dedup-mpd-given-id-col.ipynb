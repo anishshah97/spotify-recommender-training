{
 "cells": [
  {
   "cell_type": "code",
   "execution_count": null,
   "id": "6c3fed59-e25b-42b6-827e-e876cc7fc47d",
   "metadata": {},
   "outputs": [],
   "source": [
    "import pandas as pd\n",
    "from pathlib import Path\n",
    "import os\n",
    "import json\n",
    "from loguru import logger\n",
    "data_path = Path(Path(os.path.abspath(\"\")).parent, \"data\")"
   ]
  },
  {
   "cell_type": "code",
   "execution_count": null,
   "id": "26d0b63a-582e-4407-9211-45c9e0b72f5e",
   "metadata": {},
   "outputs": [],
   "source": [
    "%reload_kedro\n",
    "catalog = context.catalog"
   ]
  },
  {
   "cell_type": "code",
   "execution_count": null,
   "id": "8254ab69-1ffb-4742-b734-18766b5b85d3",
   "metadata": {},
   "outputs": [],
   "source": [
    "cleaned_mpd_tracks = catalog.load(\"cleaned_mpd_tracks\")"
   ]
  },
  {
   "cell_type": "code",
   "execution_count": null,
   "id": "9b517662-b267-4d12-9d79-8a47f153d4fa",
   "metadata": {},
   "outputs": [],
   "source": [
    "cleaned_mpd_tracks.head(5)"
   ]
  },
  {
   "cell_type": "code",
   "execution_count": null,
   "id": "673edf58-1c18-498a-9a39-ae8609a7f655",
   "metadata": {},
   "outputs": [],
   "source": [
    "count = cleaned_mpd_tracks[\"track_id\"].count().compute()"
   ]
  },
  {
   "cell_type": "code",
   "execution_count": null,
   "id": "531464a8-b1c7-4344-9e5a-1e645e6b6a58",
   "metadata": {},
   "outputs": [],
   "source": [
    "count"
   ]
  },
  {
   "cell_type": "code",
   "execution_count": null,
   "id": "2fefe107-166e-45f1-ac96-e5365d4d6c6e",
   "metadata": {},
   "outputs": [],
   "source": [
    "import dask.dataframe as dd\n",
    "import dask.distributed as d_dist\n",
    "from dask.dataframe.core import repartition\n",
    "from dask.distributed import Client"
   ]
  },
  {
   "cell_type": "code",
   "execution_count": null,
   "id": "a846a271-62fa-4ef4-8a4c-6d6f98c11f4a",
   "metadata": {},
   "outputs": [],
   "source": [
    "def dask_dedup(ddf, subset):\n",
    "    client = d_dist.client._get_global_client() or Client()\n",
    "#     logger.info(\"Repartitioning\")\n",
    "#     ddf = ddf.repartition(partition_size=\"100MB\")\n",
    "    logger.info(\"Deduplicating\")\n",
    "    deduped_ddf = ddf.drop_duplicates(\n",
    "        subset=subset)\n",
    "#     deduped_ddf = deduped_cleaned_mpd_tracks.repartition(\n",
    "#         partition_size=\"100MB\")\n",
    "    \n",
    "    return deduped_ddf"
   ]
  },
  {
   "cell_type": "code",
   "execution_count": null,
   "id": "a592cea0-7baa-4390-91f1-95fba538d77a",
   "metadata": {},
   "outputs": [],
   "source": [
    "deduped_cleaned_mpd_tracks = dask_dedup(cleaned_mpd_tracks, [\"track_id\"])"
   ]
  },
  {
   "cell_type": "code",
   "execution_count": null,
   "id": "9178443c-1aad-430d-8d51-1fc1c5e42f5f",
   "metadata": {},
   "outputs": [],
   "source": [
    "catalog.save(\"deduped_cleaned_mpd_tracks\", deduped_cleaned_mpd_tracks)"
   ]
  }
 ],
 "metadata": {
  "kernelspec": {
   "display_name": "SpotifyRecommendations",
   "language": "python",
   "name": "python3"
  },
  "language_info": {
   "codemirror_mode": {
    "name": "ipython",
    "version": 3
   },
   "file_extension": ".py",
   "mimetype": "text/x-python",
   "name": "python",
   "nbconvert_exporter": "python",
   "pygments_lexer": "ipython3",
   "version": "3.8.11"
  }
 },
 "nbformat": 4,
 "nbformat_minor": 5
}
