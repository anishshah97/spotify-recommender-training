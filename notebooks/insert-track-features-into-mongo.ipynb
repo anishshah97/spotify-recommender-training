{
 "cells": [
  {
   "cell_type": "code",
   "execution_count": 1,
   "id": "fce05106-f955-4832-9f44-fb9d6af38af9",
   "metadata": {},
   "outputs": [],
   "source": [
    "import os\n",
    "\n",
    "import numpy as np\n",
    "import pandas as pd\n",
    "from pymongo import MongoClient, ReplaceOne, InsertOne\n",
    "import pymongo"
   ]
  },
  {
   "cell_type": "code",
   "execution_count": 2,
   "id": "5e8c300e-80a9-4991-873f-c9a22b8df844",
   "metadata": {},
   "outputs": [
    {
     "data": {
      "text/plain": [
       "True"
      ]
     },
     "execution_count": 2,
     "metadata": {},
     "output_type": "execute_result"
    }
   ],
   "source": [
    "from dotenv import find_dotenv, load_dotenv\n",
    "load_dotenv(find_dotenv())"
   ]
  },
  {
   "cell_type": "code",
   "execution_count": 3,
   "id": "44141d3b-250b-48ae-866c-25172f12e129",
   "metadata": {},
   "outputs": [],
   "source": [
    "MONGO_CONN = os.getenv(\"MONGO_CONN\")\n",
    "\n",
    "mongo = MongoClient(MONGO_CONN)\n",
    "mongo_spotify_data = mongo[\"spotifyData\"]\n",
    "mongo_spotify_track_features = mongo_spotify_data[\"trackFeatures\"]\n",
    "mongo_spotify_artist_features = mongo_spotify_data[\"artistFeatures\"]"
   ]
  },
  {
   "cell_type": "code",
   "execution_count": 4,
   "id": "58510566-496b-4f2d-b267-feb511bef91a",
   "metadata": {},
   "outputs": [],
   "source": [
    "try:\n",
    "    stored_tids = [doc.get(\"_id\") for doc in mongo_spotify_track_features.aggregate([\n",
    "      { \"$group\": { \"_id\": \"$track_spid\" } }\n",
    "    ])]\n",
    "except:\n",
    "    stored_tids = []"
   ]
  },
  {
   "cell_type": "code",
   "execution_count": 5,
   "id": "cd0ada7d-4bed-486b-a72c-2ecc4c4dfc44",
   "metadata": {},
   "outputs": [
    {
     "data": {
      "text/plain": [
       "773828"
      ]
     },
     "execution_count": 5,
     "metadata": {},
     "output_type": "execute_result"
    }
   ],
   "source": [
    "len(stored_tids)"
   ]
  },
  {
   "cell_type": "code",
   "execution_count": 6,
   "id": "745bcf02-b3d9-4ed8-a88d-8a1e503e120c",
   "metadata": {},
   "outputs": [],
   "source": [
    "def chunk(data, n):\n",
    "    return [data[x : x + n] for x in range(0, len(data), n)]"
   ]
  },
  {
   "cell_type": "code",
   "execution_count": 7,
   "id": "a372ed91-25c0-49d8-b57e-815bc051e53c",
   "metadata": {},
   "outputs": [],
   "source": [
    "#TODO: Generalize\n",
    "#TODO: remove mongo from this to prevent a new connection per worker?\n",
    "#TODO: multithreading inside of this mapped partition so each worker can efficiently process the chunk ops?\n",
    "def upsert_mongo_data(df, id_col):\n",
    "    \n",
    "    MONGO_CONN = os.getenv(\"MONGO_CONN\")\n",
    "    mongo = MongoClient(MONGO_CONN)\n",
    "    mongo_spotify_data = mongo[\"spotifyData\"]\n",
    "    mongo_spotify_track_features = mongo_spotify_data[\"trackFeatures\"]\n",
    "    mongo_spotify_artist_features = mongo_spotify_data[\"artistFeatures\"]\n",
    "    \n",
    "    db_coll = mongo_spotify_track_features\n",
    "    \n",
    "    ops_list = []\n",
    "    \n",
    "    datetime_cols = df.select_dtypes(include=['datetime64']).columns\n",
    "    for col in datetime_cols:\n",
    "        df[col] = df[col].fillna(pd.to_datetime('1970-01-01'))\n",
    "    \n",
    "    object_str_cols = df.select_dtypes(include=[\"string\"]).columns\n",
    "    for col in object_str_cols:\n",
    "        df[col] = df[col].fillna(\"<NA>\")\n",
    "    \n",
    "    feature_records = df.to_dict(\"records\")\n",
    "    for record in feature_records:\n",
    "        ops_list.append(\n",
    "#             InsertOne({id_col: record[id_col]}, record)\n",
    "            ReplaceOne({id_col: record[id_col]}, record, upsert=True)\n",
    "        )\n",
    "    chunked_ops = chunk(ops_list, 1000)\n",
    "    for ops in chunked_ops:\n",
    "        db_coll.bulk_write(ops, ordered=False)\n",
    "    return True"
   ]
  },
  {
   "cell_type": "code",
   "execution_count": 8,
   "id": "147c1b5c-aed4-4a5f-8eba-115ab75427f1",
   "metadata": {},
   "outputs": [],
   "source": [
    "import dask.dataframe as dd\n",
    "import dask.distributed as d_dist\n",
    "from dask.dataframe.core import repartition\n",
    "from dask.distributed import Client"
   ]
  },
  {
   "cell_type": "code",
   "execution_count": 9,
   "id": "d5a622c1-8bab-4d86-93fd-d33fd7375aa2",
   "metadata": {},
   "outputs": [
    {
     "name": "stderr",
     "output_type": "stream",
     "text": [
      "/Users/i854336/Documents/PERSONAL/spotify_playlists/spotify-recommender-training/.venv/lib/python3.8/site-packages/distributed/node.py:160: UserWarning: Port 8787 is already in use.\n",
      "Perhaps you already have a cluster running?\n",
      "Hosting the HTTP server on port 55432 instead\n",
      "  warnings.warn(\n"
     ]
    }
   ],
   "source": [
    "client = d_dist.client._get_global_client() or Client()"
   ]
  },
  {
   "cell_type": "code",
   "execution_count": 10,
   "id": "21e12fe9-3987-47ef-88a5-1a96dd4adb49",
   "metadata": {},
   "outputs": [
    {
     "name": "stdout",
     "output_type": "stream",
     "text": [
      "2021-08-25 13:44:08,548 - kedro.io.data_catalog - INFO - Loading data from `mpd_track_features` (ParquetDataSet)...\n"
     ]
    }
   ],
   "source": [
    "mpd_track_features = catalog.load(\"mpd_track_features\")"
   ]
  },
  {
   "cell_type": "code",
   "execution_count": 11,
   "id": "a841eb68-9427-4974-b90a-dccf4c2a3256",
   "metadata": {},
   "outputs": [
    {
     "data": {
      "text/html": [
       "<div>\n",
       "<style scoped>\n",
       "    .dataframe tbody tr th:only-of-type {\n",
       "        vertical-align: middle;\n",
       "    }\n",
       "\n",
       "    .dataframe tbody tr th {\n",
       "        vertical-align: top;\n",
       "    }\n",
       "\n",
       "    .dataframe thead th {\n",
       "        text-align: right;\n",
       "    }\n",
       "</style>\n",
       "<table border=\"1\" class=\"dataframe\">\n",
       "  <thead>\n",
       "    <tr style=\"text-align: right;\">\n",
       "      <th></th>\n",
       "      <th>track_danceability</th>\n",
       "      <th>track_energy</th>\n",
       "      <th>track_key</th>\n",
       "      <th>track_loudness</th>\n",
       "      <th>track_mode</th>\n",
       "      <th>track_speechiness</th>\n",
       "      <th>track_acousticness</th>\n",
       "      <th>track_instrumentalness</th>\n",
       "      <th>track_liveness</th>\n",
       "      <th>track_valence</th>\n",
       "      <th>track_tempo</th>\n",
       "      <th>track_type</th>\n",
       "      <th>track_spid</th>\n",
       "      <th>track_uri</th>\n",
       "      <th>track_track_href</th>\n",
       "      <th>track_analysis_url</th>\n",
       "      <th>track_duration_ms</th>\n",
       "      <th>track_time_signature</th>\n",
       "      <th>time_pulled</th>\n",
       "    </tr>\n",
       "  </thead>\n",
       "  <tbody>\n",
       "    <tr>\n",
       "      <th>0</th>\n",
       "      <td>0.458</td>\n",
       "      <td>0.409</td>\n",
       "      <td>0</td>\n",
       "      <td>-13.886</td>\n",
       "      <td>1</td>\n",
       "      <td>0.0317</td>\n",
       "      <td>0.733</td>\n",
       "      <td>0.916</td>\n",
       "      <td>0.23</td>\n",
       "      <td>0.249</td>\n",
       "      <td>167.352</td>\n",
       "      <td>audio_features</td>\n",
       "      <td>7daKhXFKpT9Zw95fCNDMxG</td>\n",
       "      <td>spotify:track:7daKhXFKpT9Zw95fCNDMxG</td>\n",
       "      <td>https://api.spotify.com/v1/tracks/7daKhXFKpT9Z...</td>\n",
       "      <td>https://api.spotify.com/v1/audio-analysis/7daK...</td>\n",
       "      <td>348333</td>\n",
       "      <td>4</td>\n",
       "      <td>2021-08-23T21:47:42.002035+00:00</td>\n",
       "    </tr>\n",
       "  </tbody>\n",
       "</table>\n",
       "</div>"
      ],
      "text/plain": [
       "   track_danceability  track_energy  track_key  track_loudness  track_mode  \\\n",
       "0               0.458         0.409          0         -13.886           1   \n",
       "\n",
       "   track_speechiness  track_acousticness  track_instrumentalness  \\\n",
       "0             0.0317               0.733                   0.916   \n",
       "\n",
       "   track_liveness  track_valence  track_tempo      track_type  \\\n",
       "0            0.23          0.249      167.352  audio_features   \n",
       "\n",
       "               track_spid                             track_uri  \\\n",
       "0  7daKhXFKpT9Zw95fCNDMxG  spotify:track:7daKhXFKpT9Zw95fCNDMxG   \n",
       "\n",
       "                                    track_track_href  \\\n",
       "0  https://api.spotify.com/v1/tracks/7daKhXFKpT9Z...   \n",
       "\n",
       "                                  track_analysis_url  track_duration_ms  \\\n",
       "0  https://api.spotify.com/v1/audio-analysis/7daK...             348333   \n",
       "\n",
       "   track_time_signature                       time_pulled  \n",
       "0                     4  2021-08-23T21:47:42.002035+00:00  "
      ]
     },
     "execution_count": 11,
     "metadata": {},
     "output_type": "execute_result"
    }
   ],
   "source": [
    "mpd_track_features.head(1)"
   ]
  },
  {
   "cell_type": "code",
   "execution_count": 12,
   "id": "a1ca0f42-c494-416b-880b-57739b5adfe4",
   "metadata": {},
   "outputs": [
    {
     "data": {
      "text/plain": [
       "2262191"
      ]
     },
     "execution_count": 12,
     "metadata": {},
     "output_type": "execute_result"
    }
   ],
   "source": [
    "mpd_track_features[\"track_spid\"].count().compute()"
   ]
  },
  {
   "cell_type": "code",
   "execution_count": 13,
   "id": "76bf9b43-de8b-49f0-9fe3-4d1436aab75e",
   "metadata": {},
   "outputs": [],
   "source": [
    "mpd_track_features[\"time_pulled\"] = (\n",
    "    mpd_track_features[\"time_pulled\"]\n",
    "    .fillna(pd.to_datetime('1970-01-01'))\n",
    "    .map_partitions(\n",
    "        pd.to_datetime, errors=\"coerce\"\n",
    "    )\n",
    ")"
   ]
  },
  {
   "cell_type": "code",
   "execution_count": 14,
   "id": "326ea831-4a67-4ac1-9742-13cce5b4e35d",
   "metadata": {},
   "outputs": [
    {
     "data": {
      "text/html": [
       "<div>\n",
       "<style scoped>\n",
       "    .dataframe tbody tr th:only-of-type {\n",
       "        vertical-align: middle;\n",
       "    }\n",
       "\n",
       "    .dataframe tbody tr th {\n",
       "        vertical-align: top;\n",
       "    }\n",
       "\n",
       "    .dataframe thead th {\n",
       "        text-align: right;\n",
       "    }\n",
       "</style>\n",
       "<table border=\"1\" class=\"dataframe\">\n",
       "  <thead>\n",
       "    <tr style=\"text-align: right;\">\n",
       "      <th></th>\n",
       "      <th>track_danceability</th>\n",
       "      <th>track_energy</th>\n",
       "      <th>track_key</th>\n",
       "      <th>track_loudness</th>\n",
       "      <th>track_mode</th>\n",
       "      <th>track_speechiness</th>\n",
       "      <th>track_acousticness</th>\n",
       "      <th>track_instrumentalness</th>\n",
       "      <th>track_liveness</th>\n",
       "      <th>track_valence</th>\n",
       "      <th>track_tempo</th>\n",
       "      <th>track_type</th>\n",
       "      <th>track_spid</th>\n",
       "      <th>track_uri</th>\n",
       "      <th>track_track_href</th>\n",
       "      <th>track_analysis_url</th>\n",
       "      <th>track_duration_ms</th>\n",
       "      <th>track_time_signature</th>\n",
       "      <th>time_pulled</th>\n",
       "    </tr>\n",
       "  </thead>\n",
       "  <tbody>\n",
       "    <tr>\n",
       "      <th>0</th>\n",
       "      <td>0.458</td>\n",
       "      <td>0.409</td>\n",
       "      <td>0</td>\n",
       "      <td>-13.886</td>\n",
       "      <td>1</td>\n",
       "      <td>0.0317</td>\n",
       "      <td>0.733</td>\n",
       "      <td>0.916</td>\n",
       "      <td>0.23</td>\n",
       "      <td>0.249</td>\n",
       "      <td>167.352</td>\n",
       "      <td>audio_features</td>\n",
       "      <td>7daKhXFKpT9Zw95fCNDMxG</td>\n",
       "      <td>spotify:track:7daKhXFKpT9Zw95fCNDMxG</td>\n",
       "      <td>https://api.spotify.com/v1/tracks/7daKhXFKpT9Z...</td>\n",
       "      <td>https://api.spotify.com/v1/audio-analysis/7daK...</td>\n",
       "      <td>348333</td>\n",
       "      <td>4</td>\n",
       "      <td>2021-08-23 21:47:42.002035+00:00</td>\n",
       "    </tr>\n",
       "  </tbody>\n",
       "</table>\n",
       "</div>"
      ],
      "text/plain": [
       "   track_danceability  track_energy  track_key  track_loudness  track_mode  \\\n",
       "0               0.458         0.409          0         -13.886           1   \n",
       "\n",
       "   track_speechiness  track_acousticness  track_instrumentalness  \\\n",
       "0             0.0317               0.733                   0.916   \n",
       "\n",
       "   track_liveness  track_valence  track_tempo      track_type  \\\n",
       "0            0.23          0.249      167.352  audio_features   \n",
       "\n",
       "               track_spid                             track_uri  \\\n",
       "0  7daKhXFKpT9Zw95fCNDMxG  spotify:track:7daKhXFKpT9Zw95fCNDMxG   \n",
       "\n",
       "                                    track_track_href  \\\n",
       "0  https://api.spotify.com/v1/tracks/7daKhXFKpT9Z...   \n",
       "\n",
       "                                  track_analysis_url  track_duration_ms  \\\n",
       "0  https://api.spotify.com/v1/audio-analysis/7daK...             348333   \n",
       "\n",
       "   track_time_signature                      time_pulled  \n",
       "0                     4 2021-08-23 21:47:42.002035+00:00  "
      ]
     },
     "execution_count": 14,
     "metadata": {},
     "output_type": "execute_result"
    }
   ],
   "source": [
    "mpd_track_features.head(1)"
   ]
  },
  {
   "cell_type": "code",
   "execution_count": 15,
   "id": "ae3af8b8-0884-49c1-a17f-1c7c72497ab5",
   "metadata": {},
   "outputs": [
    {
     "data": {
      "text/plain": [
       "track_danceability               float64\n",
       "track_energy                     float64\n",
       "track_key                          int64\n",
       "track_loudness                   float64\n",
       "track_mode                         int64\n",
       "track_speechiness                float64\n",
       "track_acousticness               float64\n",
       "track_instrumentalness           float64\n",
       "track_liveness                   float64\n",
       "track_valence                    float64\n",
       "track_tempo                      float64\n",
       "track_type                        string\n",
       "track_spid                        string\n",
       "track_uri                         string\n",
       "track_track_href                  string\n",
       "track_analysis_url                string\n",
       "track_duration_ms                  int64\n",
       "track_time_signature               int64\n",
       "time_pulled               datetime64[ns]\n",
       "dtype: object"
      ]
     },
     "execution_count": 15,
     "metadata": {},
     "output_type": "execute_result"
    }
   ],
   "source": [
    "mpd_track_features.dtypes"
   ]
  },
  {
   "cell_type": "code",
   "execution_count": 16,
   "id": "cc843881-50c0-4fc4-a12f-c1d3a903366f",
   "metadata": {},
   "outputs": [],
   "source": [
    "import multiprocessing\n",
    "\n",
    "num_cores = multiprocessing.cpu_count()"
   ]
  },
  {
   "cell_type": "code",
   "execution_count": 17,
   "id": "ac3ca55e-f95c-4c58-bd4f-968602f423bf",
   "metadata": {},
   "outputs": [
    {
     "data": {
      "text/plain": [
       "12"
      ]
     },
     "execution_count": 17,
     "metadata": {},
     "output_type": "execute_result"
    }
   ],
   "source": [
    "num_cores"
   ]
  },
  {
   "cell_type": "code",
   "execution_count": 18,
   "id": "55fff71b-12b1-48d9-849e-05d1b6128ced",
   "metadata": {},
   "outputs": [],
   "source": [
    "#could probably speed up using map partitions but no need\n",
    "mpd_track_features_df = mpd_track_features.compute()\n",
    "selected_mpd_track_features_df = mpd_track_features_df[~(mpd_track_features_df[\"track_spid\"].isin(set(stored_tids)))]"
   ]
  },
  {
   "cell_type": "code",
   "execution_count": 19,
   "id": "4620aacf-1042-4b8e-afa4-8de585ee2dca",
   "metadata": {},
   "outputs": [
    {
     "data": {
      "text/plain": [
       "2262190"
      ]
     },
     "execution_count": 19,
     "metadata": {},
     "output_type": "execute_result"
    }
   ],
   "source": [
    "selected_mpd_track_features_df.shape[0] + len(stored_tids)"
   ]
  },
  {
   "cell_type": "code",
   "execution_count": 20,
   "id": "90f84de5-09c1-4266-a877-a73559abd8f2",
   "metadata": {},
   "outputs": [
    {
     "data": {
      "text/plain": [
       "2262191"
      ]
     },
     "execution_count": 20,
     "metadata": {},
     "output_type": "execute_result"
    }
   ],
   "source": [
    "mpd_track_features[\"track_spid\"].count().compute()"
   ]
  },
  {
   "cell_type": "code",
   "execution_count": 21,
   "id": "50fb75dc-922e-4ab4-b875-6ecc9e6cb978",
   "metadata": {},
   "outputs": [],
   "source": [
    "selected_mpd_tracks = dd.from_pandas(selected_mpd_track_features_df, npartitions = num_cores)"
   ]
  },
  {
   "cell_type": "code",
   "execution_count": null,
   "id": "d95c4a26-7f62-4847-8ab6-b99ba226061f",
   "metadata": {},
   "outputs": [],
   "source": [
    "_ = (\n",
    "    selected_mpd_tracks\n",
    "#     mpd_track_features\n",
    "#     .repartition(npartitions=num_cores)\n",
    "    .map_partitions(\n",
    "        upsert_mongo_data, \n",
    "#         db_coll=mongo_mpd_track_features, \n",
    "        id_col=\"track_spid\",\n",
    "        meta=\"float\"\n",
    "    )\n",
    ").compute()"
   ]
  },
  {
   "cell_type": "code",
   "execution_count": null,
   "id": "d8caf2af-752f-43cb-8834-d5c059755c89",
   "metadata": {},
   "outputs": [],
   "source": [
    "#TODO: delete the mongo junk entries created by dask by track_spid in [\"a\", \"<NA>\"]"
   ]
  },
  {
   "cell_type": "code",
   "execution_count": null,
   "id": "0acb5654-bd1d-4e60-88d0-ac4407130daf",
   "metadata": {},
   "outputs": [],
   "source": [
    "# TODO: Return Tuple to dict?\n",
    "# TODO: Unpack kwargs?\n",
    "def get_mongo_track_data(df_name, kwargs):\n",
    "    if df_name == \"track_features\":\n",
    "        found_tracks_data = mongo_spotify_tracks.find(\n",
    "            {\"track_spid\": {\"$in\": kwargs[\"track_ids\"]}}\n",
    "        )\n",
    "        found_tracks_df = pd.DataFrame(list(found_tracks_data))\n",
    "        del found_tracks_df[\"_id\"]\n",
    "        found_track_ids = found_tracks_df[\"track_spid\"].unique().tolist()\n",
    "        missing_track_ids = np.setdiff1d(kwargs[\"track_ids\"], found_track_ids)\n",
    "        data = (found_tracks_df, missing_track_ids)\n",
    "\n",
    "    elif df_name == \"artist_features\":\n",
    "        found_artists_data = mongo_spotify_artists.find(\n",
    "            {\"artist_spid\": {\"$in\": kwargs[\"artist_ids\"]}}\n",
    "        )\n",
    "        found_artist_df = pd.DataFrame(list(found_artists_data))\n",
    "        del found_artist_df[\"_id\"]\n",
    "        found_artist_ids = found_artist_df[\"artist_spid\"].unique().tolist()\n",
    "        missing_artist_ids = np.setdiff1d(kwargs[\"artist_ids\"], found_artist_ids)\n",
    "        data = (found_artist_df, missing_artist_ids)\n",
    "    else:\n",
    "        return None\n",
    "    return data"
   ]
  },
  {
   "cell_type": "code",
   "execution_count": null,
   "id": "c13d2816-3241-4989-a892-199f14a513ec",
   "metadata": {},
   "outputs": [],
   "source": []
  },
  {
   "cell_type": "code",
   "execution_count": null,
   "id": "a4887c93-72e3-42d6-82a1-4fb4d790b0d2",
   "metadata": {},
   "outputs": [],
   "source": []
  }
 ],
 "metadata": {
  "kernelspec": {
   "display_name": "SpotifyRecommendations",
   "language": "python",
   "name": "python3"
  },
  "language_info": {
   "codemirror_mode": {
    "name": "ipython",
    "version": 3
   },
   "file_extension": ".py",
   "mimetype": "text/x-python",
   "name": "python",
   "nbconvert_exporter": "python",
   "pygments_lexer": "ipython3",
   "version": "3.8.11"
  }
 },
 "nbformat": 4,
 "nbformat_minor": 5
}
