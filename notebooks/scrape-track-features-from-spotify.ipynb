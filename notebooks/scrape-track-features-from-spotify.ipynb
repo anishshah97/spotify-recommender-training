{
 "cells": [
  {
   "cell_type": "code",
   "execution_count": null,
   "id": "15aee0c9-e238-4a09-bc99-d9133cc2cf22",
   "metadata": {},
   "outputs": [],
   "source": [
    "import pandas as pd\n",
    "from pathlib import Path\n",
    "import os\n",
    "import json\n",
    "# from loguru import logger\n",
    "import math\n",
    "data_path = Path(Path(os.path.abspath(\"\")).parent, \"data\")\n",
    "mpd_track_features_path = Path(data_path, \"03_primary\", \"mpd_track_features\")\n",
    "mpd_track_features_path.mkdir(exist_ok=True)"
   ]
  },
  {
   "cell_type": "code",
   "execution_count": null,
   "id": "47796e25-a801-4524-932f-c094134c146b",
   "metadata": {},
   "outputs": [],
   "source": [
    "import spotipy\n",
    "import datetime"
   ]
  },
  {
   "cell_type": "code",
   "execution_count": null,
   "id": "b3ed9173-0c03-4a9c-9bc9-8c99c01eb19c",
   "metadata": {},
   "outputs": [],
   "source": [
    "import dask.dataframe as dd\n",
    "import dask.distributed as d_dist\n",
    "from dask.dataframe.core import repartition\n",
    "from dask.distributed import Client"
   ]
  },
  {
   "cell_type": "code",
   "execution_count": null,
   "id": "bb69ce5f-85ed-4d8d-9c11-cf5df0bcd455",
   "metadata": {},
   "outputs": [],
   "source": [
    "from kedro.io import DataSetError"
   ]
  },
  {
   "cell_type": "code",
   "execution_count": null,
   "id": "acfb7df2-5e63-4557-b9b1-ff84b41eb348",
   "metadata": {},
   "outputs": [],
   "source": [
    "import time\n",
    "from itertools import chain\n",
    "\n",
    "import flatdict"
   ]
  },
  {
   "cell_type": "code",
   "execution_count": null,
   "id": "16adebb1-6c25-4f8d-9aa8-fb8cd8b1e754",
   "metadata": {},
   "outputs": [],
   "source": [
    "from distributed.worker import logger"
   ]
  },
  {
   "cell_type": "code",
   "execution_count": null,
   "id": "b7ffa27d-38aa-4b04-95dd-59787975234e",
   "metadata": {},
   "outputs": [],
   "source": [
    "%reload_kedro\n",
    "catalog = context.catalog"
   ]
  },
  {
   "cell_type": "code",
   "execution_count": null,
   "id": "eca43cde-4968-4a61-990f-096f20f223a8",
   "metadata": {},
   "outputs": [],
   "source": [
    "dask_total_ids = catalog.load(\"mpd_track_ids\")"
   ]
  },
  {
   "cell_type": "code",
   "execution_count": null,
   "id": "e4e48625-555e-446c-9a6c-0f5a1c0b1175",
   "metadata": {},
   "outputs": [],
   "source": [
    "try:\n",
    "    dask_scraped_ids = catalog.load(\"scraped_mpd_track_feature_ids\")\n",
    "except DataSetError:\n",
    "    dask_scraped_ids = dd.from_pandas(pd.Series([], dtype=\"string\"), npartitions=1)"
   ]
  },
  {
   "cell_type": "code",
   "execution_count": null,
   "id": "d76b0836-48bb-46b2-aae2-265f76816dd8",
   "metadata": {},
   "outputs": [],
   "source": [
    "TRACKS_PER_CHUNK = 2500"
   ]
  },
  {
   "cell_type": "code",
   "execution_count": null,
   "id": "6ba9f365-27c7-4239-8c16-227f9d017b72",
   "metadata": {},
   "outputs": [],
   "source": [
    "def chunk(data, n):\n",
    "    return [data[x : x + n] for x in range(0, len(data), n)]"
   ]
  },
  {
   "cell_type": "code",
   "execution_count": null,
   "id": "4d06775c-0c26-4c67-a8af-b2c61437c45e",
   "metadata": {},
   "outputs": [],
   "source": [
    "def get_track_features(spotify, track_ids):\n",
    "    time.sleep(0.5)\n",
    "    if len(track_ids) > 100:\n",
    "        logger.error(\"Too many tracks\")\n",
    "    else:\n",
    "        return spotify.audio_features(track_ids)\n",
    "\n",
    "\n",
    "def get_artist_features(spotify, artist_ids):\n",
    "    time.sleep(0.5)\n",
    "    if len(artist_ids) > 50:\n",
    "        logger.error(\"Too many tracks\")\n",
    "    else:\n",
    "        return spotify.artists(artist_ids)\n",
    "\n",
    "\n",
    "def flatten_artist_features(artist_features):\n",
    "\n",
    "    artist_follower_total = artist_features.get(\"followers\", {}).get(\"total\")\n",
    "    artist_genres = artist_features.get(\"genres\", [])\n",
    "    artist_spid = artist_features.get(\"id\")\n",
    "    artist_img_urls = artist_features.get(\"images\", [{\"url\": None}])\n",
    "    if len(artist_img_urls) == 0:\n",
    "        artist_img_url = None\n",
    "    else:\n",
    "        artist_img_url = artist_img_urls[0].get(\"url\")\n",
    "    artist_popularity = artist_features.get(\"popularity\")\n",
    "\n",
    "    flattened_artist_features = {\n",
    "        \"artist_follower_total\": artist_follower_total,\n",
    "        \"artist_genres\": artist_genres,\n",
    "        \"artist_spid\": artist_spid,\n",
    "        \"artist_img_url\": artist_img_url,\n",
    "        \"artist_popularity\": artist_popularity,\n",
    "    }\n",
    "\n",
    "    return flattened_artist_features\n",
    "\n",
    "def get_track_features_df(spotify, track_ids):\n",
    "\n",
    "    chunked_track_ids = chunk(track_ids, 100)\n",
    "    logger.info(f\"Processing {len(chunked_track_ids)} chunks\")\n",
    "    chunked_track_features = [\n",
    "        get_track_features(spotify, chunked_tracks)\n",
    "        for chunked_tracks in chunked_track_ids\n",
    "    ]\n",
    "    track_features = [\n",
    "        val for val in list(chain.from_iterable(chunked_track_features)) if val\n",
    "    ]\n",
    "    track_features_df = (\n",
    "        pd.DataFrame(track_features)\n",
    "#         .drop([\"uri\", \"track_href\", \"analysis_url\", \"type\"], axis=1)\n",
    "        .rename({\"id\": \"spid\"}, axis=1)\n",
    "        .add_prefix(\"track_\")\n",
    "        # .set_index(\"track_spid\")\n",
    "    )\n",
    "    track_features_df[\"time_pulled\"] = datetime.datetime.now(\n",
    "        datetime.timezone.utc\n",
    "    ).isoformat()\n",
    "    logger.info(f\"Returning track_features_df of size {track_features_df.shape}\")\n",
    "    return track_features_df\n",
    "\n",
    "\n",
    "def get_artist_features_df(spotify, artist_ids):\n",
    "    chunked_artist_ids = chunk(artist_ids, 50)\n",
    "    logger.info(f\"Processing {len(chunked_artist_ids)} chunks\")\n",
    "    chunked_artist_features = [\n",
    "        get_artist_features(spotify, chunked_artists)[\"artists\"]\n",
    "        for chunked_artists in chunked_artist_ids\n",
    "    ]\n",
    "    artist_features = [\n",
    "        val for val in list(chain.from_iterable(chunked_artist_features)) if val\n",
    "    ]\n",
    "    flattened_artist_features = [\n",
    "        flatten_artist_features(artist) for artist in artist_features\n",
    "    ]\n",
    "    artist_features_df = pd.DataFrame(\n",
    "        flattened_artist_features\n",
    "    )  # .set_index(\"artist_spid\")\n",
    "    artist_features_df[\"artist_genres\"] = artist_features_df[\"artist_genres\"].map(list)\n",
    "    artist_features_df[\"time_pulled\"] = datetime.datetime.now(\n",
    "        datetime.timezone.utc\n",
    "    ).isoformat()\n",
    "    logger.info(f\"Returning artist_features_df of size {artist_features_df.shape}\")\n",
    "    return artist_features_df\n",
    "\n",
    "#TODO: Pass kwargs bc no need for explicit reference to spotify needed here?\n",
    "def gather_spotify_features_data(s, spotify, id_type=\"track\", base_path=\"\"):\n",
    "    import uuid\n",
    "    from pathlib import Path\n",
    "    \n",
    "    \n",
    "    if id_type == \"track\":\n",
    "        _feature_scraper = get_track_features_df\n",
    "        #TODO: Better dtype checking/coeercion\n",
    "        _meta = {\n",
    "            'track_acousticness' : \"float\",\n",
    "            'track_analysis_url': \"string\", \n",
    "            'track_danceability': \"float\", \n",
    "            'track_duration_ms': \"int\", \n",
    "            'track_energy': \"float\", \n",
    "            'track_instrumentalness': \"float\", \n",
    "            'track_key': \"int\", \n",
    "            'track_liveness': \"float\", \n",
    "            'track_loudness': \"float\", \n",
    "            'track_mode': \"int\", \n",
    "            'track_speechiness': \"float\", \n",
    "            'track_spid': \"string\", \n",
    "            'track_tempo': \"float\", \n",
    "            'track_time_signature': \"int\", \n",
    "            'track_track_href': \"string\", \n",
    "            'track_type': \"string\", \n",
    "            'track_uri': \"string\", \n",
    "            'track_valence': \"float\"\n",
    "        }\n",
    "    elif id_type == \"artist\":\n",
    "        _ids = df[id_col]\n",
    "        _feature_scraper = get_artist_features_df\n",
    "    else:\n",
    "        raise ValueError(f\"Improper ID type: {id_type}\")\n",
    "             \n",
    "    _ids = s.unique().tolist()\n",
    "    logger.info(f\"Scraping {len(_ids)} {id_type}s\")\n",
    "    feature_df = _feature_scraper(spotify, _ids)\n",
    "    time_pulled = datetime.datetime.now(datetime.timezone.utc).isoformat()\n",
    "    feature_df[\"time_pulled\"] = time_pulled\n",
    "    for col, dtype in _meta.items():\n",
    "        if col not in feature_df:\n",
    "            feature_df[col] = pd.Series([], dtype=dtype)\n",
    "        else:\n",
    "            feature_df[col] = feature_df[col].astype(dtype)\n",
    "    _df_id = str(uuid.uuid4().hex)\n",
    "    feature_df.to_parquet(Path(base_path, _df_id+\".parquet\"))\n",
    "\n",
    "    return None"
   ]
  },
  {
   "cell_type": "code",
   "execution_count": null,
   "id": "9fa19b63-78e6-4b9d-8c36-c0ca3d1fa171",
   "metadata": {},
   "outputs": [],
   "source": [
    "def dask_gather_spotify_features_data(ids_to_scrape, spotify, id_type=\"track\", base_path=\"\"):\n",
    "    client = d_dist.client._get_global_client() or Client()\n",
    "    logger.info(\"processing/cleaning\")\n",
    "    track_features_df = ids_to_scrape.map_partitions(\n",
    "        gather_spotify_features_data, spotify, id_type, base_path).compute().infer_objects()\n",
    "    return track_features_df"
   ]
  },
  {
   "cell_type": "code",
   "execution_count": null,
   "id": "b6e71d6e-a81f-4d25-88cf-447f27a83e2d",
   "metadata": {},
   "outputs": [],
   "source": [
    "#TODO: Remove dask from this and add a seperate preparation step?\n",
    "def determine_remaining_ids_for_dask(dask_total_ids, dask_scraped_ids):\n",
    "    mpd_ids = set(dask_total_ids.compute().unique())\n",
    "    scraped_ids = set(dask_scraped_ids.compute().unique())\n",
    "    remaining_ids = mpd_ids-scraped_ids\n",
    "    remaining_ids_count = len(remaining_ids)\n",
    "    logger.info(f\"\"\"\n",
    "    Total Track Count: {len(mpd_ids)} \n",
    "    Scraped Track Count: {len(scraped_ids)} \n",
    "    Remaining Track Count: {remaining_ids_count}\n",
    "    \"\"\")\n",
    "    n_track_chunks = math.ceil(remaining_ids_count/TRACKS_PER_CHUNK)\n",
    "    return dd.from_pandas(pd.Series(list(remaining_ids)), npartitions=n_track_chunks)\n",
    "    "
   ]
  },
  {
   "cell_type": "code",
   "execution_count": null,
   "id": "83422a9a-9ca7-4061-8e37-257ec2cc4e8c",
   "metadata": {},
   "outputs": [],
   "source": [
    "def get_spotify_credentials():\n",
    "    auth_manager = spotipy.oauth2.SpotifyOAuth(\n",
    "        scope=\"user-top-read%20user-read-currently-playing%20user-read-playback-state%20playlist-read-collaborative%20playlist-read-private%20user-library-read%20user-read-recently-played%20user-follow-read\",\n",
    "        show_dialog=True,\n",
    "    )\n",
    "    spotify = spotipy.Spotify(auth_manager=auth_manager)\n",
    "    return spotify"
   ]
  },
  {
   "cell_type": "code",
   "execution_count": null,
   "id": "f694ed12-bf11-4d5f-99d2-de8ce6dd861d",
   "metadata": {},
   "outputs": [],
   "source": [
    "spotify = get_spotify_credentials()"
   ]
  },
  {
   "cell_type": "code",
   "execution_count": null,
   "id": "5adceb23-cc86-4eac-9ce4-a0def536a6a0",
   "metadata": {},
   "outputs": [],
   "source": [
    "dd_remaining_ids = determine_remaining_ids_for_dask(dask_total_ids, dask_scraped_ids)"
   ]
  },
  {
   "cell_type": "code",
   "execution_count": null,
   "id": "4ab1503f-51be-4cb7-aeba-4213a64fdca4",
   "metadata": {},
   "outputs": [],
   "source": [
    "_ = dask_gather_spotify_features_data(dd_remaining_ids, spotify, \"track\", mpd_track_features_path)"
   ]
  },
  {
   "cell_type": "code",
   "execution_count": null,
   "id": "d83c329d-7b70-4f2f-afc1-9aeb9c89abcd",
   "metadata": {},
   "outputs": [],
   "source": [
    "# catalog.save(\"mpd_track_features\", mpd_track_features)"
   ]
  },
  {
   "cell_type": "code",
   "execution_count": null,
   "id": "9895efc8-3226-48ff-9647-f4065a3b6678",
   "metadata": {},
   "outputs": [],
   "source": []
  }
 ],
 "metadata": {
  "kernelspec": {
   "display_name": "SpotifyRecommendations",
   "language": "python",
   "name": "python3"
  },
  "language_info": {
   "codemirror_mode": {
    "name": "ipython",
    "version": 3
   },
   "file_extension": ".py",
   "mimetype": "text/x-python",
   "name": "python",
   "nbconvert_exporter": "python",
   "pygments_lexer": "ipython3",
   "version": "3.8.11"
  }
 },
 "nbformat": 4,
 "nbformat_minor": 5
}
