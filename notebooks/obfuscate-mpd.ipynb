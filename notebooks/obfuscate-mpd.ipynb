{
 "cells": [
  {
   "cell_type": "code",
   "execution_count": 1,
   "id": "4a24cc80-f9ec-4a79-a1c5-0930c44add9e",
   "metadata": {},
   "outputs": [
    {
     "name": "stdout",
     "output_type": "stream",
     "text": [
      "2021-08-24 12:06:21,054 - root - INFO - Registered hooks from 2 installed plugin(s): kedro-mlflow-0.7.3\n",
      "2021-08-24 12:06:21,142 - kedro.framework.session.store - INFO - `read()` not implemented for `BaseSessionStore`. Assuming empty store.\n",
      "2021-08-24 12:06:21,425 - root - INFO - ** Kedro project Spotify Recommendations\n",
      "2021-08-24 12:06:21,426 - root - INFO - Defined global variable `context`, `session` and `catalog`\n",
      "2021-08-24 12:06:21,435 - root - INFO - Registered line magic `run_viz`\n"
     ]
    }
   ],
   "source": [
    "%reload_kedro\n",
    "catalog = context.catalog"
   ]
  },
  {
   "cell_type": "code",
   "execution_count": 3,
   "id": "ee6be9c4-2e6c-49fc-977e-f2d11b9b8dc5",
   "metadata": {},
   "outputs": [],
   "source": [
    "import dask.dataframe as dd\n",
    "import dask.distributed as d_dist\n",
    "from dask.dataframe.core import repartition\n",
    "from dask.distributed import Client"
   ]
  },
  {
   "cell_type": "code",
   "execution_count": 4,
   "id": "19d9a668-398d-4d54-bb66-54d2f3d82a16",
   "metadata": {},
   "outputs": [],
   "source": [
    "client = d_dist.client._get_global_client() or Client()"
   ]
  },
  {
   "cell_type": "code",
   "execution_count": 2,
   "id": "efd8cd79-a0fb-4713-bcce-c93ad5e8dd5a",
   "metadata": {},
   "outputs": [
    {
     "name": "stdout",
     "output_type": "stream",
     "text": [
      "2021-08-24 12:06:21,461 - kedro.io.data_catalog - INFO - Loading data from `cleaned_mpd_playlists` (ParquetDataSet)...\n"
     ]
    }
   ],
   "source": [
    "cleaned_mpd_playlists = catalog.load(\"cleaned_mpd_playlists\")"
   ]
  },
  {
   "cell_type": "code",
   "execution_count": 5,
   "id": "fbc8a107-d21f-4344-ab88-8d528d146f57",
   "metadata": {},
   "outputs": [],
   "source": [
    "pids_to_tids = cleaned_mpd_playlists[[\"pid\", \"track_ids\"]].set_index(\"pid\")[\"track_ids\"]"
   ]
  },
  {
   "cell_type": "code",
   "execution_count": 6,
   "id": "4ae84983-5769-4f58-8d73-35d3ee6ee25d",
   "metadata": {},
   "outputs": [],
   "source": [
    "from sklearn.model_selection import train_test_split\n",
    "#We do not care for order mattering here as of now\n",
    "#There is no user information so our task will focus on recommending songs to playlists\n",
    "#  with expansion into optimizing ordering or playlists and then further playlist continuation where sequence matters"
   ]
  },
  {
   "cell_type": "code",
   "execution_count": 7,
   "id": "8efa07d2-979d-4aca-b4a3-995b038ec898",
   "metadata": {},
   "outputs": [],
   "source": [
    "split_mpd_pids_to_tids = pids_to_tids.map(train_test_split).reset_index()"
   ]
  },
  {
   "cell_type": "code",
   "execution_count": 8,
   "id": "813f3c79-9200-405f-88ee-dc440e557b3d",
   "metadata": {},
   "outputs": [
    {
     "data": {
      "text/html": [
       "<div>\n",
       "<style scoped>\n",
       "    .dataframe tbody tr th:only-of-type {\n",
       "        vertical-align: middle;\n",
       "    }\n",
       "\n",
       "    .dataframe tbody tr th {\n",
       "        vertical-align: top;\n",
       "    }\n",
       "\n",
       "    .dataframe thead th {\n",
       "        text-align: right;\n",
       "    }\n",
       "</style>\n",
       "<table border=\"1\" class=\"dataframe\">\n",
       "  <thead>\n",
       "    <tr style=\"text-align: right;\">\n",
       "      <th></th>\n",
       "      <th>pid</th>\n",
       "      <th>track_ids</th>\n",
       "    </tr>\n",
       "  </thead>\n",
       "  <tbody>\n",
       "    <tr>\n",
       "      <th>0</th>\n",
       "      <td>0</td>\n",
       "      <td>[[4Y45aqo9QMa57rDsAJv40A, 0XUfyU2QviPAs6bxSpXY...</td>\n",
       "    </tr>\n",
       "  </tbody>\n",
       "</table>\n",
       "</div>"
      ],
      "text/plain": [
       "   pid                                          track_ids\n",
       "0    0  [[4Y45aqo9QMa57rDsAJv40A, 0XUfyU2QviPAs6bxSpXY..."
      ]
     },
     "execution_count": 8,
     "metadata": {},
     "output_type": "execute_result"
    }
   ],
   "source": [
    "split_mpd_pids_to_tids.head(1)"
   ]
  },
  {
   "cell_type": "code",
   "execution_count": 9,
   "id": "e1d1f540-970c-48c1-8f62-689f796642ca",
   "metadata": {},
   "outputs": [],
   "source": [
    "split_mpd_pids_to_tids = split_mpd_pids_to_tids.assign(train=split_mpd_pids_to_tids[\"track_ids\"].map(lambda x: x[0]),\n",
    "                 test=split_mpd_pids_to_tids[\"track_ids\"].map(lambda x: x[1]))"
   ]
  },
  {
   "cell_type": "code",
   "execution_count": 10,
   "id": "9641ceba-05f4-4cc1-b01f-024cfb951dc3",
   "metadata": {},
   "outputs": [
    {
     "data": {
      "text/html": [
       "<div>\n",
       "<style scoped>\n",
       "    .dataframe tbody tr th:only-of-type {\n",
       "        vertical-align: middle;\n",
       "    }\n",
       "\n",
       "    .dataframe tbody tr th {\n",
       "        vertical-align: top;\n",
       "    }\n",
       "\n",
       "    .dataframe thead th {\n",
       "        text-align: right;\n",
       "    }\n",
       "</style>\n",
       "<table border=\"1\" class=\"dataframe\">\n",
       "  <thead>\n",
       "    <tr style=\"text-align: right;\">\n",
       "      <th></th>\n",
       "      <th>pid</th>\n",
       "      <th>track_ids</th>\n",
       "      <th>train</th>\n",
       "      <th>test</th>\n",
       "    </tr>\n",
       "  </thead>\n",
       "  <tbody>\n",
       "    <tr>\n",
       "      <th>0</th>\n",
       "      <td>0</td>\n",
       "      <td>[[5lDriBxJd22IhOH9zTcFrV, 6MjljecHzHelUDismyKk...</td>\n",
       "      <td>[5lDriBxJd22IhOH9zTcFrV, 6MjljecHzHelUDismyKkb...</td>\n",
       "      <td>[4E5P1XyAFtrjpiIxkydly4, 5Q0Nhxo0l2bP3pNjpGJwV...</td>\n",
       "    </tr>\n",
       "  </tbody>\n",
       "</table>\n",
       "</div>"
      ],
      "text/plain": [
       "   pid                                          track_ids  \\\n",
       "0    0  [[5lDriBxJd22IhOH9zTcFrV, 6MjljecHzHelUDismyKk...   \n",
       "\n",
       "                                               train  \\\n",
       "0  [5lDriBxJd22IhOH9zTcFrV, 6MjljecHzHelUDismyKkb...   \n",
       "\n",
       "                                                test  \n",
       "0  [4E5P1XyAFtrjpiIxkydly4, 5Q0Nhxo0l2bP3pNjpGJwV...  "
      ]
     },
     "execution_count": 10,
     "metadata": {},
     "output_type": "execute_result"
    }
   ],
   "source": [
    "split_mpd_pids_to_tids.head(1)"
   ]
  },
  {
   "cell_type": "code",
   "execution_count": 11,
   "id": "3263bed2-c424-4afa-8de2-11507cf4fd24",
   "metadata": {},
   "outputs": [],
   "source": [
    "# split_mpd_pids_to_tids[[\"train_track_ids\", \"test_track_ids\"]] = (pd.DataFrame(split_mpd_pids_to_tids[\"track_ids\"].tolist(), \n",
    "#                                                                               index=split_mpd_pids_to_tids.index)\n",
    "#                                                                 )"
   ]
  },
  {
   "cell_type": "code",
   "execution_count": 12,
   "id": "52883f8f-5f1a-4c79-a65a-b42bf35f2cfc",
   "metadata": {},
   "outputs": [],
   "source": [
    "# train_mpd_pids_to_tids = split_pids_to_tids[[\"pid\", \"train_track_ids\"]]\n",
    "# test_mpd_pids_to_tids = split_pids_to_tids[[\"pid\", \"test_track_ids\"]]"
   ]
  },
  {
   "cell_type": "code",
   "execution_count": 13,
   "id": "8aececde-bdac-483d-950f-8e87e4d37511",
   "metadata": {},
   "outputs": [
    {
     "name": "stdout",
     "output_type": "stream",
     "text": [
      "2021-08-24 12:08:40,361 - kedro.io.data_catalog - INFO - Saving data to `split_mpd_pids_to_tids` (ParquetDataSet)...\n"
     ]
    },
    {
     "name": "stderr",
     "output_type": "stream",
     "text": [
      "Process Dask Worker process (from Nanny):\n",
      "Traceback (most recent call last):\n",
      "  File \"/Users/i854336/.pyenv/versions/3.8.11/lib/python3.8/multiprocessing/process.py\", line 315, in _bootstrap\n",
      "    self.run()\n",
      "  File \"/Users/i854336/.pyenv/versions/3.8.11/lib/python3.8/multiprocessing/process.py\", line 108, in run\n",
      "    self._target(*self._args, **self._kwargs)\n",
      "  File \"/Users/i854336/Documents/PERSONAL/spotify_playlists/spotify-recommender-training/.venv/lib/python3.8/site-packages/distributed/process.py\", line 191, in _run\n",
      "    target(*args, **kwargs)\n",
      "  File \"/Users/i854336/Documents/PERSONAL/spotify_playlists/spotify-recommender-training/.venv/lib/python3.8/site-packages/distributed/nanny.py\", line 923, in _run\n",
      "    loop.run_sync(do_stop)\n",
      "  File \"/Users/i854336/Documents/PERSONAL/spotify_playlists/spotify-recommender-training/.venv/lib/python3.8/site-packages/tornado/ioloop.py\", line 524, in run_sync\n",
      "    self.start()\n",
      "  File \"/Users/i854336/Documents/PERSONAL/spotify_playlists/spotify-recommender-training/.venv/lib/python3.8/site-packages/tornado/platform/asyncio.py\", line 199, in start\n",
      "    self.asyncio_loop.run_forever()\n",
      "  File \"/Users/i854336/.pyenv/versions/3.8.11/lib/python3.8/asyncio/base_events.py\", line 570, in run_forever\n",
      "    self._run_once()\n",
      "  File \"/Users/i854336/.pyenv/versions/3.8.11/lib/python3.8/asyncio/base_events.py\", line 1859, in _run_once\n",
      "    handle._run()\n",
      "  File \"/Users/i854336/.pyenv/versions/3.8.11/lib/python3.8/asyncio/events.py\", line 81, in _run\n",
      "    self._context.run(self._callback, *self._args)\n",
      "  File \"/Users/i854336/Documents/PERSONAL/spotify_playlists/spotify-recommender-training/.venv/lib/python3.8/site-packages/tornado/ioloop.py\", line 688, in <lambda>\n",
      "    lambda f: self._run_callback(functools.partial(callback, future))\n",
      "  File \"/Users/i854336/Documents/PERSONAL/spotify_playlists/spotify-recommender-training/.venv/lib/python3.8/site-packages/tornado/ioloop.py\", line 741, in _run_callback\n",
      "    ret = callback()\n",
      "  File \"/Users/i854336/Documents/PERSONAL/spotify_playlists/spotify-recommender-training/.venv/lib/python3.8/site-packages/tornado/ioloop.py\", line 765, in _discard_future_result\n",
      "    future.result()\n",
      "  File \"/Users/i854336/Documents/PERSONAL/spotify_playlists/spotify-recommender-training/.venv/lib/python3.8/site-packages/distributed/nanny.py\", line 916, in _run\n",
      "    loop.run_sync(run)\n",
      "  File \"/Users/i854336/Documents/PERSONAL/spotify_playlists/spotify-recommender-training/.venv/lib/python3.8/site-packages/tornado/ioloop.py\", line 524, in run_sync\n",
      "    self.start()\n",
      "  File \"/Users/i854336/Documents/PERSONAL/spotify_playlists/spotify-recommender-training/.venv/lib/python3.8/site-packages/tornado/platform/asyncio.py\", line 199, in start\n",
      "    self.asyncio_loop.run_forever()\n",
      "  File \"/Users/i854336/.pyenv/versions/3.8.11/lib/python3.8/asyncio/base_events.py\", line 570, in run_forever\n",
      "    self._run_once()\n",
      "  File \"/Users/i854336/.pyenv/versions/3.8.11/lib/python3.8/asyncio/base_events.py\", line 1859, in _run_once\n",
      "    handle._run()\n",
      "  File \"/Users/i854336/.pyenv/versions/3.8.11/lib/python3.8/asyncio/events.py\", line 81, in _run\n",
      "    self._context.run(self._callback, *self._args)\n",
      "  File \"/Users/i854336/Documents/PERSONAL/spotify_playlists/spotify-recommender-training/.venv/lib/python3.8/site-packages/distributed/worker.py\", line 991, in heartbeat\n",
      "    response = await retry_operation(\n",
      "  File \"/Users/i854336/Documents/PERSONAL/spotify_playlists/spotify-recommender-training/.venv/lib/python3.8/site-packages/distributed/utils_comm.py\", line 385, in retry_operation\n",
      "    return await retry(\n",
      "  File \"/Users/i854336/Documents/PERSONAL/spotify_playlists/spotify-recommender-training/.venv/lib/python3.8/site-packages/distributed/utils_comm.py\", line 370, in retry\n",
      "    return await coro()\n",
      "  File \"/Users/i854336/Documents/PERSONAL/spotify_playlists/spotify-recommender-training/.venv/lib/python3.8/site-packages/distributed/core.py\", line 874, in send_recv_from_rpc\n",
      "    result = await send_recv(comm=comm, op=key, **kwargs)\n",
      "  File \"/Users/i854336/Documents/PERSONAL/spotify_playlists/spotify-recommender-training/.venv/lib/python3.8/site-packages/distributed/core.py\", line 649, in send_recv\n",
      "    await comm.write(msg, serializers=serializers, on_error=\"raise\")\n",
      "  File \"/Users/i854336/Documents/PERSONAL/spotify_playlists/spotify-recommender-training/.venv/lib/python3.8/site-packages/distributed/comm/tcp.py\", line 243, in write\n",
      "    frames = await to_frames(\n",
      "  File \"/Users/i854336/Documents/PERSONAL/spotify_playlists/spotify-recommender-training/.venv/lib/python3.8/site-packages/distributed/comm/utils.py\", line 41, in to_frames\n",
      "    msg_size = sizeof(msg)\n",
      "  File \"/Users/i854336/Documents/PERSONAL/spotify_playlists/spotify-recommender-training/.venv/lib/python3.8/site-packages/dask/utils.py\", line 575, in __call__\n",
      "    return meth(arg, *args, **kwargs)\n",
      "  File \"/Users/i854336/Documents/PERSONAL/spotify_playlists/spotify-recommender-training/.venv/lib/python3.8/site-packages/dask/sizeof.py\", line 87, in sizeof_python_dict\n",
      "    getsizeof(d)\n",
      "KeyboardInterrupt\n"
     ]
    }
   ],
   "source": [
    "catalog.save(\"split_mpd_pids_to_tids\", split_mpd_pids_to_tids)\n",
    "# catalog.save(\"train_mpd_pids_to_tids\", train_mpd_pids_to_tids)\n",
    "# catalog.save(\"test_mpd_pids_to_tids\", test_mpd_pids_to_tids)"
   ]
  },
  {
   "cell_type": "code",
   "execution_count": null,
   "id": "cff65ea6-4a81-48e2-846d-113d201931c3",
   "metadata": {},
   "outputs": [],
   "source": []
  }
 ],
 "metadata": {
  "kernelspec": {
   "display_name": "SpotifyRecommendations",
   "language": "python",
   "name": "python3"
  },
  "language_info": {
   "codemirror_mode": {
    "name": "ipython",
    "version": 3
   },
   "file_extension": ".py",
   "mimetype": "text/x-python",
   "name": "python",
   "nbconvert_exporter": "python",
   "pygments_lexer": "ipython3",
   "version": "3.8.11"
  }
 },
 "nbformat": 4,
 "nbformat_minor": 5
}
