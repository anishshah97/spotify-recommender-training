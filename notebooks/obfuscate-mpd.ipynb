{
 "cells": [
  {
   "cell_type": "code",
   "execution_count": 1,
   "id": "4a24cc80-f9ec-4a79-a1c5-0930c44add9e",
   "metadata": {},
   "outputs": [
    {
     "name": "stdout",
     "output_type": "stream",
     "text": [
      "2021-08-24 04:01:49,547 - root - INFO - Registered hooks from 2 installed plugin(s): kedro-mlflow-0.7.3\n",
      "2021-08-24 04:01:49,633 - kedro.framework.session.store - INFO - `read()` not implemented for `BaseSessionStore`. Assuming empty store.\n",
      "2021-08-24 04:01:49,935 - root - INFO - ** Kedro project Spotify Recommendations\n",
      "2021-08-24 04:01:49,936 - root - INFO - Defined global variable `context`, `session` and `catalog`\n",
      "2021-08-24 04:01:49,944 - root - INFO - Registered line magic `run_viz`\n"
     ]
    }
   ],
   "source": [
    "%reload_kedro\n",
    "catalog = context.catalog"
   ]
  },
  {
   "cell_type": "code",
   "execution_count": 2,
   "id": "efd8cd79-a0fb-4713-bcce-c93ad5e8dd5a",
   "metadata": {},
   "outputs": [
    {
     "name": "stdout",
     "output_type": "stream",
     "text": [
      "2021-08-24 04:01:49,966 - kedro.io.data_catalog - INFO - Loading data from `cleaned_mpd_playlists` (ParquetDataSet)...\n"
     ]
    }
   ],
   "source": [
    "cleaned_mpd_playlists = catalog.load(\"cleaned_mpd_playlists\")"
   ]
  },
  {
   "cell_type": "code",
   "execution_count": 3,
   "id": "ee6be9c4-2e6c-49fc-977e-f2d11b9b8dc5",
   "metadata": {},
   "outputs": [],
   "source": [
    "import dask.dataframe as dd\n",
    "import dask.distributed as d_dist\n",
    "from dask.dataframe.core import repartition\n",
    "from dask.distributed import Client"
   ]
  },
  {
   "cell_type": "code",
   "execution_count": 4,
   "id": "19d9a668-398d-4d54-bb66-54d2f3d82a16",
   "metadata": {},
   "outputs": [],
   "source": [
    "client = d_dist.client._get_global_client() or Client()"
   ]
  },
  {
   "cell_type": "code",
   "execution_count": 5,
   "id": "fbc8a107-d21f-4344-ab88-8d528d146f57",
   "metadata": {},
   "outputs": [],
   "source": [
    "pids_to_tids = cleaned_mpd_playlists[[\"pid\", \"track_ids\"]].set_index(\"pid\")[\"track_ids\"]"
   ]
  },
  {
   "cell_type": "code",
   "execution_count": 6,
   "id": "4ae84983-5769-4f58-8d73-35d3ee6ee25d",
   "metadata": {},
   "outputs": [],
   "source": [
    "from sklearn.model_selection import train_test_split\n",
    "#We do not care for order mattering here as of now\n",
    "#There is no user information so our task will focus on recommending songs to playlists\n",
    "#  with expansion into optimizing ordering or playlists and then further playlist continuation where sequence matters"
   ]
  },
  {
   "cell_type": "code",
   "execution_count": 7,
   "id": "8efa07d2-979d-4aca-b4a3-995b038ec898",
   "metadata": {},
   "outputs": [],
   "source": [
    "split_pids_to_tids = pids_to_tids.map(train_test_split).compute().to_frame().reset_index()"
   ]
  },
  {
   "cell_type": "code",
   "execution_count": 8,
   "id": "25ba4850-53c2-4099-85b2-dd7fb8b403c8",
   "metadata": {},
   "outputs": [],
   "source": [
    "import pandas as pd"
   ]
  },
  {
   "cell_type": "code",
   "execution_count": 9,
   "id": "3263bed2-c424-4afa-8de2-11507cf4fd24",
   "metadata": {},
   "outputs": [],
   "source": [
    "split_pids_to_tids[[\"train_track_ids\", \"test_track_ids\"]] = pd.DataFrame(split_pids_to_tids[\"track_ids\"].tolist(), index= split_pids_to_tids.index)"
   ]
  },
  {
   "cell_type": "code",
   "execution_count": 10,
   "id": "52883f8f-5f1a-4c79-a65a-b42bf35f2cfc",
   "metadata": {},
   "outputs": [],
   "source": [
    "# train_mpd_pids_to_tids = split_pids_to_tids[[\"pid\", \"train_track_ids\"]]\n",
    "# test_mpd_pids_to_tids = split_pids_to_tids[[\"pid\", \"test_track_ids\"]]"
   ]
  },
  {
   "cell_type": "code",
   "execution_count": 11,
   "id": "8aececde-bdac-483d-950f-8e87e4d37511",
   "metadata": {},
   "outputs": [
    {
     "ename": "NameError",
     "evalue": "name 'split_mpd_pids_to_tids' is not defined",
     "output_type": "error",
     "traceback": [
      "\u001b[0;31m---------------------------------------------------------------------------\u001b[0m",
      "\u001b[0;31mNameError\u001b[0m                                 Traceback (most recent call last)",
      "\u001b[0;32m/var/folders/_d/7z1fg0x945xbzsdtwf15y4780000gn/T/ipykernel_33403/1465604816.py\u001b[0m in \u001b[0;36m<module>\u001b[0;34m\u001b[0m\n\u001b[0;32m----> 1\u001b[0;31m \u001b[0mcatalog\u001b[0m\u001b[0;34m.\u001b[0m\u001b[0msave\u001b[0m\u001b[0;34m(\u001b[0m\u001b[0;34m\"split_mpd_pids_to_tids\"\u001b[0m\u001b[0;34m,\u001b[0m \u001b[0msplit_mpd_pids_to_tids\u001b[0m\u001b[0;34m)\u001b[0m\u001b[0;34m\u001b[0m\u001b[0;34m\u001b[0m\u001b[0m\n\u001b[0m\u001b[1;32m      2\u001b[0m \u001b[0;31m# catalog.save(\"train_mpd_pids_to_tids\", train_mpd_pids_to_tids)\u001b[0m\u001b[0;34m\u001b[0m\u001b[0;34m\u001b[0m\u001b[0;34m\u001b[0m\u001b[0m\n\u001b[1;32m      3\u001b[0m \u001b[0;31m# catalog.save(\"test_mpd_pids_to_tids\", test_mpd_pids_to_tids)\u001b[0m\u001b[0;34m\u001b[0m\u001b[0;34m\u001b[0m\u001b[0;34m\u001b[0m\u001b[0m\n",
      "\u001b[0;31mNameError\u001b[0m: name 'split_mpd_pids_to_tids' is not defined"
     ]
    }
   ],
   "source": [
    "catalog.save(\"split_mpd_pids_to_tids\", split_mpd_pids_to_tids)\n",
    "# catalog.save(\"train_mpd_pids_to_tids\", train_mpd_pids_to_tids)\n",
    "# catalog.save(\"test_mpd_pids_to_tids\", test_mpd_pids_to_tids)"
   ]
  }
 ],
 "metadata": {
  "kernelspec": {
   "display_name": "SpotifyRecommendations",
   "language": "python",
   "name": "python3"
  },
  "language_info": {
   "codemirror_mode": {
    "name": "ipython",
    "version": 3
   },
   "file_extension": ".py",
   "mimetype": "text/x-python",
   "name": "python",
   "nbconvert_exporter": "python",
   "pygments_lexer": "ipython3",
   "version": "3.8.11"
  }
 },
 "nbformat": 4,
 "nbformat_minor": 5
}
