{
 "cells": [
  {
   "cell_type": "code",
   "execution_count": 1,
   "id": "2337e004-d37b-4944-bc9f-f094a56752ad",
   "metadata": {},
   "outputs": [],
   "source": [
    "import networkx as nx\n",
    "import pandas as pd"
   ]
  },
  {
   "cell_type": "code",
   "execution_count": 2,
   "id": "7118d7fe-5a05-48b9-b36f-d8fd0fc9b06c",
   "metadata": {},
   "outputs": [
    {
     "name": "stdout",
     "output_type": "stream",
     "text": [
      "2021-08-24 10:51:10,611 - root - INFO - Registered hooks from 2 installed plugin(s): kedro-mlflow-0.7.3\n",
      "2021-08-24 10:51:10,706 - kedro.framework.session.store - INFO - `read()` not implemented for `BaseSessionStore`. Assuming empty store.\n",
      "2021-08-24 10:51:11,001 - root - INFO - ** Kedro project Spotify Recommendations\n",
      "2021-08-24 10:51:11,002 - root - INFO - Defined global variable `context`, `session` and `catalog`\n",
      "2021-08-24 10:51:11,012 - root - INFO - Registered line magic `run_viz`\n"
     ]
    }
   ],
   "source": [
    "%reload_kedro\n",
    "catalog = context.catalog"
   ]
  },
  {
   "cell_type": "code",
   "execution_count": 3,
   "id": "3a0fcc4c-01d4-43d2-a69f-05cfed1f7899",
   "metadata": {},
   "outputs": [
    {
     "name": "stdout",
     "output_type": "stream",
     "text": [
      "2021-08-24 10:51:11,033 - kedro.io.data_catalog - INFO - Loading data from `mpd_track_features` (ParquetDataSet)...\n",
      "2021-08-24 10:51:11,202 - kedro.io.data_catalog - INFO - Loading data from `cleaned_mpd_playlists` (ParquetDataSet)...\n"
     ]
    }
   ],
   "source": [
    "# split_mpd_pids_to_tids = catalog.load(\"split_mpd_pids_to_tids\")\n",
    "mpd_track_features = catalog.load(\"mpd_track_features\")\n",
    "cleaned_mpd_playlists = catalog.load(\"cleaned_mpd_playlists\")"
   ]
  },
  {
   "cell_type": "code",
   "execution_count": 4,
   "id": "7d0d96c7-952e-4616-9f95-4232f66a2185",
   "metadata": {},
   "outputs": [],
   "source": [
    "import dask.dataframe as dd\n",
    "import dask.distributed as d_dist\n",
    "from dask.dataframe.core import repartition\n",
    "from dask.distributed import Client"
   ]
  },
  {
   "cell_type": "code",
   "execution_count": 5,
   "id": "c454b93a-7ca8-4fdc-b88d-94950a458e13",
   "metadata": {},
   "outputs": [
    {
     "name": "stderr",
     "output_type": "stream",
     "text": [
      "distributed.diskutils - INFO - Found stale lock file and directory '/Users/i854336/Documents/PERSONAL/spotify_playlists/spotify-recommender-training/notebooks/dask-worker-space/worker-31_okb8_', purging\n",
      "distributed.diskutils - INFO - Found stale lock file and directory '/Users/i854336/Documents/PERSONAL/spotify_playlists/spotify-recommender-training/notebooks/dask-worker-space/worker-lmi_2leq', purging\n",
      "distributed.diskutils - INFO - Found stale lock file and directory '/Users/i854336/Documents/PERSONAL/spotify_playlists/spotify-recommender-training/notebooks/dask-worker-space/worker-o_moc8w0', purging\n",
      "distributed.diskutils - INFO - Found stale lock file and directory '/Users/i854336/Documents/PERSONAL/spotify_playlists/spotify-recommender-training/notebooks/dask-worker-space/worker-9j6x4m6p', purging\n"
     ]
    }
   ],
   "source": [
    "client = d_dist.client._get_global_client() or Client()"
   ]
  },
  {
   "cell_type": "code",
   "execution_count": 6,
   "id": "d0f98bbf-2ca1-475f-b0c0-56a131f73bcb",
   "metadata": {},
   "outputs": [],
   "source": [
    "playlist_feature_cols = [\n",
    "    \"pid\",\n",
    "    \"name\",\n",
    "    \"collaborative\",\n",
    "    \"modified_at\",\n",
    "    \"num_followers\",\n",
    "    \"num_edits\"\n",
    "]"
   ]
  },
  {
   "cell_type": "code",
   "execution_count": 7,
   "id": "d3a652d6-b8cb-4a34-9de6-a040d2cc2e71",
   "metadata": {},
   "outputs": [],
   "source": [
    "# cleaned_mpd_playlists = cleaned_mpd_playlists.astype({\"name\": \"string\", \"collaborative\" : \"bool\"})"
   ]
  },
  {
   "cell_type": "code",
   "execution_count": 8,
   "id": "81823837-c571-4a05-8c84-62b0206149eb",
   "metadata": {},
   "outputs": [],
   "source": [
    "def str2bool(v): # Note the self to allow it to be in a class\n",
    "    return v.lower() in ('yes', 'true', 't', '1', 'yea', 'verily')  # lower() is a method"
   ]
  },
  {
   "cell_type": "code",
   "execution_count": 9,
   "id": "a71fd18c-7659-42c3-a00a-986ce85a589e",
   "metadata": {},
   "outputs": [],
   "source": [
    "def convert_text_bool_to_python_bool(val):\n",
    "    return str2bool(val)"
   ]
  },
  {
   "cell_type": "code",
   "execution_count": 10,
   "id": "2ad569e2-f2b9-45bd-8194-fd5605826e86",
   "metadata": {},
   "outputs": [],
   "source": [
    "cleaned_mpd_playlists[\"collaborative\"] = (\n",
    "    cleaned_mpd_playlists[\"collaborative\"]\n",
    "    .map(convert_text_bool_to_python_bool)\n",
    ")"
   ]
  },
  {
   "cell_type": "code",
   "execution_count": 11,
   "id": "7fa1d896-021c-4b13-9c67-b41b3073f73b",
   "metadata": {},
   "outputs": [],
   "source": [
    "cleaned_mpd_playlists[\"modified_at\"] = (\n",
    "    cleaned_mpd_playlists[\"modified_at\"]\n",
    "    .map(pd.to_datetime)\n",
    ")"
   ]
  },
  {
   "cell_type": "code",
   "execution_count": 12,
   "id": "97c4dc6b-234a-4fbf-bf1b-c0f64fd04fb5",
   "metadata": {},
   "outputs": [],
   "source": [
    "def convert_feature_row_to_network_x(row, id_col):\n",
    "    _id = row[id_col]\n",
    "    _features = row.drop(id_col).to_dict()\n",
    "    return (_id, _features)"
   ]
  },
  {
   "cell_type": "code",
   "execution_count": 13,
   "id": "8f0ae1c6-967f-4736-92e4-84ae954b318f",
   "metadata": {},
   "outputs": [],
   "source": [
    "test_row = cleaned_mpd_playlists[playlist_feature_cols].loc[0].compute().infer_objects()"
   ]
  },
  {
   "cell_type": "code",
   "execution_count": 14,
   "id": "542ee5a5-3ca2-4215-bf67-6b518c5a9ad7",
   "metadata": {},
   "outputs": [
    {
     "data": {
      "text/html": [
       "<div>\n",
       "<style scoped>\n",
       "    .dataframe tbody tr th:only-of-type {\n",
       "        vertical-align: middle;\n",
       "    }\n",
       "\n",
       "    .dataframe tbody tr th {\n",
       "        vertical-align: top;\n",
       "    }\n",
       "\n",
       "    .dataframe thead th {\n",
       "        text-align: right;\n",
       "    }\n",
       "</style>\n",
       "<table border=\"1\" class=\"dataframe\">\n",
       "  <thead>\n",
       "    <tr style=\"text-align: right;\">\n",
       "      <th></th>\n",
       "      <th>pid</th>\n",
       "      <th>name</th>\n",
       "      <th>collaborative</th>\n",
       "      <th>modified_at</th>\n",
       "      <th>num_followers</th>\n",
       "      <th>num_edits</th>\n",
       "    </tr>\n",
       "  </thead>\n",
       "  <tbody>\n",
       "    <tr>\n",
       "      <th>0</th>\n",
       "      <td>0</td>\n",
       "      <td>Throwbacks</td>\n",
       "      <td>False</td>\n",
       "      <td>1970-01-01 00:00:01.493424000</td>\n",
       "      <td>1</td>\n",
       "      <td>6</td>\n",
       "    </tr>\n",
       "    <tr>\n",
       "      <th>0</th>\n",
       "      <td>1000</td>\n",
       "      <td>disney</td>\n",
       "      <td>False</td>\n",
       "      <td>1970-01-01 00:00:01.457827200</td>\n",
       "      <td>1</td>\n",
       "      <td>4</td>\n",
       "    </tr>\n",
       "    <tr>\n",
       "      <th>0</th>\n",
       "      <td>2000</td>\n",
       "      <td>party party</td>\n",
       "      <td>False</td>\n",
       "      <td>1970-01-01 00:00:01.446854400</td>\n",
       "      <td>1</td>\n",
       "      <td>3</td>\n",
       "    </tr>\n",
       "    <tr>\n",
       "      <th>0</th>\n",
       "      <td>3000</td>\n",
       "      <td>Birthday Party</td>\n",
       "      <td>False</td>\n",
       "      <td>1970-01-01 00:00:01.485993600</td>\n",
       "      <td>1</td>\n",
       "      <td>4</td>\n",
       "    </tr>\n",
       "    <tr>\n",
       "      <th>0</th>\n",
       "      <td>4000</td>\n",
       "      <td>skate</td>\n",
       "      <td>True</td>\n",
       "      <td>1970-01-01 00:00:01.432252800</td>\n",
       "      <td>1</td>\n",
       "      <td>55</td>\n",
       "    </tr>\n",
       "    <tr>\n",
       "      <th>...</th>\n",
       "      <td>...</td>\n",
       "      <td>...</td>\n",
       "      <td>...</td>\n",
       "      <td>...</td>\n",
       "      <td>...</td>\n",
       "      <td>...</td>\n",
       "    </tr>\n",
       "    <tr>\n",
       "      <th>0</th>\n",
       "      <td>995000</td>\n",
       "      <td>MY FAVE</td>\n",
       "      <td>False</td>\n",
       "      <td>1970-01-01 00:00:01.507507200</td>\n",
       "      <td>1</td>\n",
       "      <td>46</td>\n",
       "    </tr>\n",
       "    <tr>\n",
       "      <th>0</th>\n",
       "      <td>996000</td>\n",
       "      <td>worship music</td>\n",
       "      <td>False</td>\n",
       "      <td>1970-01-01 00:00:01.428710400</td>\n",
       "      <td>1</td>\n",
       "      <td>18</td>\n",
       "    </tr>\n",
       "    <tr>\n",
       "      <th>0</th>\n",
       "      <td>997000</td>\n",
       "      <td>christmas</td>\n",
       "      <td>False</td>\n",
       "      <td>1970-01-01 00:00:01.481760000</td>\n",
       "      <td>1</td>\n",
       "      <td>7</td>\n",
       "    </tr>\n",
       "    <tr>\n",
       "      <th>0</th>\n",
       "      <td>998000</td>\n",
       "      <td>LIT</td>\n",
       "      <td>False</td>\n",
       "      <td>1970-01-01 00:00:01.481587200</td>\n",
       "      <td>1</td>\n",
       "      <td>5</td>\n",
       "    </tr>\n",
       "    <tr>\n",
       "      <th>0</th>\n",
       "      <td>999000</td>\n",
       "      <td>Study</td>\n",
       "      <td>False</td>\n",
       "      <td>1970-01-01 00:00:01.468800000</td>\n",
       "      <td>1</td>\n",
       "      <td>8</td>\n",
       "    </tr>\n",
       "  </tbody>\n",
       "</table>\n",
       "<p>1000 rows × 6 columns</p>\n",
       "</div>"
      ],
      "text/plain": [
       "       pid            name  collaborative                   modified_at  \\\n",
       "0        0      Throwbacks          False 1970-01-01 00:00:01.493424000   \n",
       "0     1000          disney          False 1970-01-01 00:00:01.457827200   \n",
       "0     2000     party party          False 1970-01-01 00:00:01.446854400   \n",
       "0     3000  Birthday Party          False 1970-01-01 00:00:01.485993600   \n",
       "0     4000           skate           True 1970-01-01 00:00:01.432252800   \n",
       "..     ...             ...            ...                           ...   \n",
       "0   995000         MY FAVE          False 1970-01-01 00:00:01.507507200   \n",
       "0   996000   worship music          False 1970-01-01 00:00:01.428710400   \n",
       "0   997000       christmas          False 1970-01-01 00:00:01.481760000   \n",
       "0   998000             LIT          False 1970-01-01 00:00:01.481587200   \n",
       "0   999000           Study          False 1970-01-01 00:00:01.468800000   \n",
       "\n",
       "    num_followers  num_edits  \n",
       "0               1          6  \n",
       "0               1          4  \n",
       "0               1          3  \n",
       "0               1          4  \n",
       "0               1         55  \n",
       "..            ...        ...  \n",
       "0               1         46  \n",
       "0               1         18  \n",
       "0               1          7  \n",
       "0               1          5  \n",
       "0               1          8  \n",
       "\n",
       "[1000 rows x 6 columns]"
      ]
     },
     "execution_count": 14,
     "metadata": {},
     "output_type": "execute_result"
    }
   ],
   "source": [
    "test_row"
   ]
  },
  {
   "cell_type": "code",
   "execution_count": 15,
   "id": "907e4c9b-756c-4bc1-830e-b3bec370f595",
   "metadata": {},
   "outputs": [],
   "source": [
    "test_ro = test_row.iloc[0]"
   ]
  },
  {
   "cell_type": "code",
   "execution_count": 16,
   "id": "bfedfb24-3913-4865-9329-bb52b737be92",
   "metadata": {},
   "outputs": [
    {
     "data": {
      "text/plain": [
       "pid                                       0\n",
       "name                             Throwbacks\n",
       "collaborative                         False\n",
       "modified_at      1970-01-01 00:00:01.493424\n",
       "num_followers                             1\n",
       "num_edits                                 6\n",
       "Name: 0, dtype: object"
      ]
     },
     "execution_count": 16,
     "metadata": {},
     "output_type": "execute_result"
    }
   ],
   "source": [
    "test_ro"
   ]
  },
  {
   "cell_type": "code",
   "execution_count": 17,
   "id": "ae059494-7857-433c-8211-903cb827ec7c",
   "metadata": {},
   "outputs": [],
   "source": [
    "network_x_test = convert_feature_row_to_network_x(test_ro, \"pid\")"
   ]
  },
  {
   "cell_type": "code",
   "execution_count": 18,
   "id": "d9e52448-40f8-4e82-ba5d-edc426bee184",
   "metadata": {},
   "outputs": [
    {
     "data": {
      "text/plain": [
       "(0,\n",
       " {'name': 'Throwbacks',\n",
       "  'collaborative': False,\n",
       "  'modified_at': Timestamp('1970-01-01 00:00:01.493424'),\n",
       "  'num_followers': 1,\n",
       "  'num_edits': 6})"
      ]
     },
     "execution_count": 18,
     "metadata": {},
     "output_type": "execute_result"
    }
   ],
   "source": [
    "network_x_test"
   ]
  },
  {
   "cell_type": "code",
   "execution_count": 19,
   "id": "412393f2-36bb-46f2-8840-cf8a2d963a01",
   "metadata": {},
   "outputs": [],
   "source": [
    "# mpd_playlist_features = cleaned_mpd_playlists[playlist_feature_cols]"
   ]
  },
  {
   "cell_type": "code",
   "execution_count": null,
   "id": "21efb36b-d0e3-467d-90c5-baed8ca2777c",
   "metadata": {},
   "outputs": [],
   "source": []
  }
 ],
 "metadata": {
  "kernelspec": {
   "display_name": "SpotifyRecommendations",
   "language": "python",
   "name": "python3"
  },
  "language_info": {
   "codemirror_mode": {
    "name": "ipython",
    "version": 3
   },
   "file_extension": ".py",
   "mimetype": "text/x-python",
   "name": "python",
   "nbconvert_exporter": "python",
   "pygments_lexer": "ipython3",
   "version": "3.8.11"
  }
 },
 "nbformat": 4,
 "nbformat_minor": 5
}
