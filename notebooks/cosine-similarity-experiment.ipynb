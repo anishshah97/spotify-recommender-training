{
 "cells": [
  {
   "cell_type": "code",
   "execution_count": 1,
   "id": "55bddd49-9689-4369-a902-4e09a80c4455",
   "metadata": {},
   "outputs": [],
   "source": [
    "import os\n",
    "\n",
    "import numpy as np\n",
    "import pandas as pd"
   ]
  },
  {
   "cell_type": "code",
   "execution_count": 2,
   "id": "e664c56c-1c63-4191-a3dd-ef24fc08a81b",
   "metadata": {},
   "outputs": [],
   "source": [
    "import dask.dataframe as dd\n",
    "import dask.distributed as d_dist\n",
    "from dask.dataframe.core import repartition\n",
    "from dask.distributed import Client"
   ]
  },
  {
   "cell_type": "code",
   "execution_count": 3,
   "id": "031c5f22-8ecc-4946-b0ab-45b9b0cbf28f",
   "metadata": {},
   "outputs": [],
   "source": [
    "from importlib import import_module\n",
    "from importlib.util import find_spec"
   ]
  },
  {
   "cell_type": "code",
   "execution_count": 4,
   "id": "2e8662a6-d89a-4a23-aacf-ab9b9d2a6efb",
   "metadata": {},
   "outputs": [],
   "source": [
    "from tqdm.notebook import tqdm\n",
    "tqdm.pandas()"
   ]
  },
  {
   "cell_type": "code",
   "execution_count": 48,
   "id": "494d7679-89ad-489a-99c7-8bb3303cf744",
   "metadata": {},
   "outputs": [
    {
     "name": "stdout",
     "output_type": "stream",
     "text": [
      "2021-08-26 12:36:25,659 - root - INFO - Registered hooks from 2 installed plugin(s): kedro-mlflow-0.7.3\n",
      "2021-08-26 12:36:25,772 - kedro.framework.session.store - INFO - `read()` not implemented for `BaseSessionStore`. Assuming empty store.\n",
      "2021-08-26 12:36:26,132 - root - INFO - ** Kedro project Spotify Recommendations\n",
      "2021-08-26 12:36:26,134 - root - INFO - Defined global variable `context`, `session` and `catalog`\n",
      "2021-08-26 12:36:26,146 - root - INFO - Registered line magic `run_viz`\n"
     ]
    }
   ],
   "source": [
    "%reload_kedro\n",
    "catalog = context.catalog"
   ]
  },
  {
   "cell_type": "code",
   "execution_count": 6,
   "id": "c89e5185-1924-4c31-b9d2-4341a6e1f875",
   "metadata": {},
   "outputs": [],
   "source": [
    "client = d_dist.client._get_global_client() or Client()"
   ]
  },
  {
   "cell_type": "code",
   "execution_count": 7,
   "id": "9547c631-9c19-46b9-a63a-1ee9e742152b",
   "metadata": {},
   "outputs": [
    {
     "name": "stdout",
     "output_type": "stream",
     "text": [
      "2021-08-26 12:26:08,166 - kedro.io.data_catalog - INFO - Loading data from `split_mpd_pids_to_tids` (ParquetDataSet)...\n",
      "2021-08-26 12:26:08,288 - kedro.io.data_catalog - INFO - Loading data from `selected_mpd_track_features` (ParquetDataSet)...\n"
     ]
    }
   ],
   "source": [
    "split_mpd_pids_to_tids = catalog.load(\"split_mpd_pids_to_tids\")\n",
    "selected_mpd_track_features = catalog.load(\"selected_mpd_track_features\").compute().set_index(\"track_spid\")"
   ]
  },
  {
   "cell_type": "code",
   "execution_count": 8,
   "id": "7c4eb7d6-2f85-4cd9-9b15-304882787347",
   "metadata": {},
   "outputs": [
    {
     "data": {
      "text/html": [
       "<div>\n",
       "<style scoped>\n",
       "    .dataframe tbody tr th:only-of-type {\n",
       "        vertical-align: middle;\n",
       "    }\n",
       "\n",
       "    .dataframe tbody tr th {\n",
       "        vertical-align: top;\n",
       "    }\n",
       "\n",
       "    .dataframe thead th {\n",
       "        text-align: right;\n",
       "    }\n",
       "</style>\n",
       "<table border=\"1\" class=\"dataframe\">\n",
       "  <thead>\n",
       "    <tr style=\"text-align: right;\">\n",
       "      <th></th>\n",
       "      <th>pid</th>\n",
       "      <th>track_ids</th>\n",
       "      <th>train</th>\n",
       "      <th>test</th>\n",
       "    </tr>\n",
       "  </thead>\n",
       "  <tbody>\n",
       "    <tr>\n",
       "      <th>0</th>\n",
       "      <td>0</td>\n",
       "      <td>[[3H1LCvO3fVsK2HPguhbml0, 6d8A5sAx9TfdeseDvfWN...</td>\n",
       "      <td>[3H1LCvO3fVsK2HPguhbml0, 6d8A5sAx9TfdeseDvfWNH...</td>\n",
       "      <td>[4pmc2AxSEq6g7hPVlJCPyP, 6sqNctd7MlJoKDOxPVCAv...</td>\n",
       "    </tr>\n",
       "  </tbody>\n",
       "</table>\n",
       "</div>"
      ],
      "text/plain": [
       "   pid                                          track_ids  \\\n",
       "0    0  [[3H1LCvO3fVsK2HPguhbml0, 6d8A5sAx9TfdeseDvfWN...   \n",
       "\n",
       "                                               train  \\\n",
       "0  [3H1LCvO3fVsK2HPguhbml0, 6d8A5sAx9TfdeseDvfWNH...   \n",
       "\n",
       "                                                test  \n",
       "0  [4pmc2AxSEq6g7hPVlJCPyP, 6sqNctd7MlJoKDOxPVCAv...  "
      ]
     },
     "execution_count": 8,
     "metadata": {},
     "output_type": "execute_result"
    }
   ],
   "source": [
    "split_mpd_pids_to_tids.head(1)"
   ]
  },
  {
   "cell_type": "code",
   "execution_count": 9,
   "id": "8204f5d3-b9ed-44f1-86f0-9c437b4e099d",
   "metadata": {},
   "outputs": [
    {
     "data": {
      "text/html": [
       "<div>\n",
       "<style scoped>\n",
       "    .dataframe tbody tr th:only-of-type {\n",
       "        vertical-align: middle;\n",
       "    }\n",
       "\n",
       "    .dataframe tbody tr th {\n",
       "        vertical-align: top;\n",
       "    }\n",
       "\n",
       "    .dataframe thead th {\n",
       "        text-align: right;\n",
       "    }\n",
       "</style>\n",
       "<table border=\"1\" class=\"dataframe\">\n",
       "  <thead>\n",
       "    <tr style=\"text-align: right;\">\n",
       "      <th></th>\n",
       "      <th>track_danceability</th>\n",
       "      <th>track_energy</th>\n",
       "      <th>track_key</th>\n",
       "      <th>track_loudness</th>\n",
       "      <th>track_mode</th>\n",
       "      <th>track_speechiness</th>\n",
       "      <th>track_acousticness</th>\n",
       "      <th>track_instrumentalness</th>\n",
       "      <th>track_liveness</th>\n",
       "      <th>track_valence</th>\n",
       "      <th>track_tempo</th>\n",
       "    </tr>\n",
       "    <tr>\n",
       "      <th>track_spid</th>\n",
       "      <th></th>\n",
       "      <th></th>\n",
       "      <th></th>\n",
       "      <th></th>\n",
       "      <th></th>\n",
       "      <th></th>\n",
       "      <th></th>\n",
       "      <th></th>\n",
       "      <th></th>\n",
       "      <th></th>\n",
       "      <th></th>\n",
       "    </tr>\n",
       "  </thead>\n",
       "  <tbody>\n",
       "    <tr>\n",
       "      <th>7daKhXFKpT9Zw95fCNDMxG</th>\n",
       "      <td>0.458</td>\n",
       "      <td>0.409</td>\n",
       "      <td>0</td>\n",
       "      <td>-13.886</td>\n",
       "      <td>1</td>\n",
       "      <td>0.0317</td>\n",
       "      <td>0.733</td>\n",
       "      <td>0.916</td>\n",
       "      <td>0.23</td>\n",
       "      <td>0.249</td>\n",
       "      <td>167.352</td>\n",
       "    </tr>\n",
       "  </tbody>\n",
       "</table>\n",
       "</div>"
      ],
      "text/plain": [
       "                        track_danceability  track_energy  track_key  \\\n",
       "track_spid                                                            \n",
       "7daKhXFKpT9Zw95fCNDMxG               0.458         0.409          0   \n",
       "\n",
       "                        track_loudness  track_mode  track_speechiness  \\\n",
       "track_spid                                                              \n",
       "7daKhXFKpT9Zw95fCNDMxG         -13.886           1             0.0317   \n",
       "\n",
       "                        track_acousticness  track_instrumentalness  \\\n",
       "track_spid                                                           \n",
       "7daKhXFKpT9Zw95fCNDMxG               0.733                   0.916   \n",
       "\n",
       "                        track_liveness  track_valence  track_tempo  \n",
       "track_spid                                                          \n",
       "7daKhXFKpT9Zw95fCNDMxG            0.23          0.249      167.352  "
      ]
     },
     "execution_count": 9,
     "metadata": {},
     "output_type": "execute_result"
    }
   ],
   "source": [
    "selected_mpd_track_features.head(1)"
   ]
  },
  {
   "cell_type": "code",
   "execution_count": 10,
   "id": "af55990a-69f9-4899-b7dc-b348c7ff0c20",
   "metadata": {},
   "outputs": [],
   "source": [
    "playlist = split_mpd_pids_to_tids.head(1)"
   ]
  },
  {
   "cell_type": "code",
   "execution_count": 11,
   "id": "0f01e37c-f884-4108-be84-e957f684be91",
   "metadata": {},
   "outputs": [
    {
     "data": {
      "text/html": [
       "<div>\n",
       "<style scoped>\n",
       "    .dataframe tbody tr th:only-of-type {\n",
       "        vertical-align: middle;\n",
       "    }\n",
       "\n",
       "    .dataframe tbody tr th {\n",
       "        vertical-align: top;\n",
       "    }\n",
       "\n",
       "    .dataframe thead th {\n",
       "        text-align: right;\n",
       "    }\n",
       "</style>\n",
       "<table border=\"1\" class=\"dataframe\">\n",
       "  <thead>\n",
       "    <tr style=\"text-align: right;\">\n",
       "      <th></th>\n",
       "      <th>pid</th>\n",
       "      <th>track_ids</th>\n",
       "      <th>train</th>\n",
       "      <th>test</th>\n",
       "    </tr>\n",
       "  </thead>\n",
       "  <tbody>\n",
       "    <tr>\n",
       "      <th>0</th>\n",
       "      <td>0</td>\n",
       "      <td>[[3H1LCvO3fVsK2HPguhbml0, 6d8A5sAx9TfdeseDvfWN...</td>\n",
       "      <td>[3H1LCvO3fVsK2HPguhbml0, 6d8A5sAx9TfdeseDvfWNH...</td>\n",
       "      <td>[4pmc2AxSEq6g7hPVlJCPyP, 6sqNctd7MlJoKDOxPVCAv...</td>\n",
       "    </tr>\n",
       "  </tbody>\n",
       "</table>\n",
       "</div>"
      ],
      "text/plain": [
       "   pid                                          track_ids  \\\n",
       "0    0  [[3H1LCvO3fVsK2HPguhbml0, 6d8A5sAx9TfdeseDvfWN...   \n",
       "\n",
       "                                               train  \\\n",
       "0  [3H1LCvO3fVsK2HPguhbml0, 6d8A5sAx9TfdeseDvfWNH...   \n",
       "\n",
       "                                                test  \n",
       "0  [4pmc2AxSEq6g7hPVlJCPyP, 6sqNctd7MlJoKDOxPVCAv...  "
      ]
     },
     "execution_count": 11,
     "metadata": {},
     "output_type": "execute_result"
    }
   ],
   "source": [
    "playlist"
   ]
  },
  {
   "cell_type": "code",
   "execution_count": 12,
   "id": "de7a8064-9d84-453d-bb37-8b47ebdc46ca",
   "metadata": {},
   "outputs": [],
   "source": [
    "playlist_tids = playlist[\"train\"].iloc[0]"
   ]
  },
  {
   "cell_type": "code",
   "execution_count": 13,
   "id": "a2263bfc-b56d-44e5-a0ac-ee036f99538f",
   "metadata": {},
   "outputs": [
    {
     "data": {
      "text/plain": [
       "array(['3H1LCvO3fVsK2HPguhbml0', '6d8A5sAx9TfdeseDvfWNHd',\n",
       "       '6MjljecHzHelUDismyKkba', '12qZHAeOyTf93YAWvGDTat',\n",
       "       '6GIrIt2M39wEGwjCQjGChX', '7H6ev70Weq6DdpZyyTmUXk',\n",
       "       '69ghzc538EQSVon2Gm3wrr', '1HwpWwa6bnqqRhK8agG4RS',\n",
       "       '6I9VzXrHxO9rA9A5euc8Ak', '1b7vg5T9YKR3NNqXfBYRF7',\n",
       "       '2eJ8ij1T3cNUKiGdcUvKhy', '5lDriBxJd22IhOH9zTcFrV',\n",
       "       '1lzr43nnXAijIGYnCT8M8H', '0WqIKmW4BTrj3eJFmnCKMv',\n",
       "       '0XUfyU2QviPAs6bxSpXYG4', '5Q0Nhxo0l2bP3pNjpGJwV1',\n",
       "       '5y69gQtK33qxb8a24ACkCy', '1JURww012QnWAw0zZXi6Aa',\n",
       "       '3uoQULcUWfnt6nc6J7Vgai', '0UaMYEvWZi0ZqiDOoHU3YI',\n",
       "       '20ORwCJusz4KS2PbTPVNKo', '2gam98EZKrF9XuOkU13ApN',\n",
       "       '4omisSlTk6Dsq2iQD7MA07', '7xYnUQigPoIDAMPVK79NEq',\n",
       "       '34ceTg8ChN5HjrqiIYCn9Q', '1TfAhjzRBWzYZ8IdUV3igl',\n",
       "       '5c1sfI6wIQEsSUw0xrkFdl', '3utIAb67sOu0QHxBE88P1M',\n",
       "       '1AWQoqb9bSvzTjaLralEkT', '4I2GqMe7L2ccMpUbnDzYLH',\n",
       "       '0uqPG793dkDDN7sCUJJIVC', '7oK9VyNzrYvRFo7nQEYkWN',\n",
       "       '2jFlMILIQzs7lSFudG9lbo', '2nbClS09zsIAqNkshg6jnp',\n",
       "       '215JYyyUnrJ98NK3KEwu6d', '7k6IzwMGpxnRghE7YosnXT',\n",
       "       '68vgtRHr7iZHpzGpon6Jlo', '1X5WGCrUMuwRFuYU1eAo2I',\n",
       "       '3BxWKCI06eQ5Od8TY2JBeA'], dtype=object)"
      ]
     },
     "execution_count": 13,
     "metadata": {},
     "output_type": "execute_result"
    }
   ],
   "source": [
    "playlist_tids"
   ]
  },
  {
   "cell_type": "code",
   "execution_count": 14,
   "id": "0b5f2732-4157-4ba5-a887-ef8e0847c8f4",
   "metadata": {},
   "outputs": [],
   "source": [
    "def get_aggregate_track_features(playlist_tids, mpd_track_features):\n",
    "    return mpd_track_features[mpd_track_features.index.isin(set(playlist_tids.tolist()))].mean()"
   ]
  },
  {
   "cell_type": "code",
   "execution_count": 15,
   "id": "e206db83-8819-4772-8e00-7fab644cafb5",
   "metadata": {},
   "outputs": [],
   "source": [
    "agg_playlist = get_aggregate_track_features(playlist_tids, selected_mpd_track_features)"
   ]
  },
  {
   "cell_type": "code",
   "execution_count": 16,
   "id": "a3a0abdf-c906-452c-affc-e89465af76bc",
   "metadata": {},
   "outputs": [
    {
     "data": {
      "text/plain": [
       "track_danceability          0.674718\n",
       "track_energy                0.777590\n",
       "track_key                   5.179487\n",
       "track_loudness             -4.996897\n",
       "track_mode                  0.666667\n",
       "track_speechiness           0.095374\n",
       "track_acousticness          0.074940\n",
       "track_instrumentalness      0.000837\n",
       "track_liveness              0.187151\n",
       "track_valence               0.633513\n",
       "track_tempo               119.808949\n",
       "dtype: float64"
      ]
     },
     "execution_count": 16,
     "metadata": {},
     "output_type": "execute_result"
    }
   ],
   "source": [
    "agg_playlist"
   ]
  },
  {
   "cell_type": "code",
   "execution_count": 17,
   "id": "842eed41-bf70-4d5f-b25d-30e1ba0bd165",
   "metadata": {},
   "outputs": [],
   "source": [
    "from sklearn.metrics.pairwise import cosine_similarity"
   ]
  },
  {
   "cell_type": "code",
   "execution_count": 18,
   "id": "14eb53da-c701-41c2-b495-6feb6cf62386",
   "metadata": {},
   "outputs": [
    {
     "data": {
      "text/plain": [
       "array([[ 6.74717949e-01,  7.77589744e-01,  5.17948718e+00,\n",
       "        -4.99689744e+00,  6.66666667e-01,  9.53743590e-02,\n",
       "         7.49398436e-02,  8.36927949e-04,  1.87151282e-01,\n",
       "         6.33512821e-01,  1.19808949e+02]])"
      ]
     },
     "execution_count": 18,
     "metadata": {},
     "output_type": "execute_result"
    }
   ],
   "source": [
    "agg_playlist.to_numpy().reshape(1, -1)"
   ]
  },
  {
   "cell_type": "code",
   "execution_count": 19,
   "id": "42612612-8fe1-446f-8ad6-be59c07c5b32",
   "metadata": {},
   "outputs": [],
   "source": [
    "candidate_df = selected_mpd_track_features[~(selected_mpd_track_features.isin(playlist_tids))]"
   ]
  },
  {
   "cell_type": "code",
   "execution_count": 20,
   "id": "1d980806-f5f6-4829-9b5f-cd3ee7df60f9",
   "metadata": {},
   "outputs": [
    {
     "data": {
      "text/html": [
       "<div>\n",
       "<style scoped>\n",
       "    .dataframe tbody tr th:only-of-type {\n",
       "        vertical-align: middle;\n",
       "    }\n",
       "\n",
       "    .dataframe tbody tr th {\n",
       "        vertical-align: top;\n",
       "    }\n",
       "\n",
       "    .dataframe thead th {\n",
       "        text-align: right;\n",
       "    }\n",
       "</style>\n",
       "<table border=\"1\" class=\"dataframe\">\n",
       "  <thead>\n",
       "    <tr style=\"text-align: right;\">\n",
       "      <th></th>\n",
       "      <th>track_danceability</th>\n",
       "      <th>track_energy</th>\n",
       "      <th>track_key</th>\n",
       "      <th>track_loudness</th>\n",
       "      <th>track_mode</th>\n",
       "      <th>track_speechiness</th>\n",
       "      <th>track_acousticness</th>\n",
       "      <th>track_instrumentalness</th>\n",
       "      <th>track_liveness</th>\n",
       "      <th>track_valence</th>\n",
       "      <th>track_tempo</th>\n",
       "    </tr>\n",
       "    <tr>\n",
       "      <th>track_spid</th>\n",
       "      <th></th>\n",
       "      <th></th>\n",
       "      <th></th>\n",
       "      <th></th>\n",
       "      <th></th>\n",
       "      <th></th>\n",
       "      <th></th>\n",
       "      <th></th>\n",
       "      <th></th>\n",
       "      <th></th>\n",
       "      <th></th>\n",
       "    </tr>\n",
       "  </thead>\n",
       "  <tbody>\n",
       "    <tr>\n",
       "      <th>7daKhXFKpT9Zw95fCNDMxG</th>\n",
       "      <td>0.458</td>\n",
       "      <td>0.4090</td>\n",
       "      <td>0</td>\n",
       "      <td>-13.886</td>\n",
       "      <td>1</td>\n",
       "      <td>0.0317</td>\n",
       "      <td>0.733000</td>\n",
       "      <td>0.9160</td>\n",
       "      <td>0.2300</td>\n",
       "      <td>0.249</td>\n",
       "      <td>167.352</td>\n",
       "    </tr>\n",
       "    <tr>\n",
       "      <th>3rxTCj1eLJi9BK8ULnVTzQ</th>\n",
       "      <td>0.708</td>\n",
       "      <td>0.9310</td>\n",
       "      <td>7</td>\n",
       "      <td>-2.930</td>\n",
       "      <td>0</td>\n",
       "      <td>0.1030</td>\n",
       "      <td>0.137000</td>\n",
       "      <td>0.0000</td>\n",
       "      <td>0.5520</td>\n",
       "      <td>0.656</td>\n",
       "      <td>108.030</td>\n",
       "    </tr>\n",
       "    <tr>\n",
       "      <th>3fmbY2XhpkIGyz2FexYPtC</th>\n",
       "      <td>0.749</td>\n",
       "      <td>0.7370</td>\n",
       "      <td>0</td>\n",
       "      <td>-8.879</td>\n",
       "      <td>1</td>\n",
       "      <td>0.0833</td>\n",
       "      <td>0.079000</td>\n",
       "      <td>0.4200</td>\n",
       "      <td>0.1050</td>\n",
       "      <td>0.594</td>\n",
       "      <td>134.038</td>\n",
       "    </tr>\n",
       "    <tr>\n",
       "      <th>1emRhNVWm9gg0iKHzuNXGX</th>\n",
       "      <td>0.790</td>\n",
       "      <td>0.6460</td>\n",
       "      <td>6</td>\n",
       "      <td>-10.956</td>\n",
       "      <td>1</td>\n",
       "      <td>0.0544</td>\n",
       "      <td>0.008740</td>\n",
       "      <td>0.9240</td>\n",
       "      <td>0.1180</td>\n",
       "      <td>0.575</td>\n",
       "      <td>127.902</td>\n",
       "    </tr>\n",
       "    <tr>\n",
       "      <th>4Z5ZN04NA27qeBO8RApsaZ</th>\n",
       "      <td>0.600</td>\n",
       "      <td>0.8460</td>\n",
       "      <td>4</td>\n",
       "      <td>-5.288</td>\n",
       "      <td>1</td>\n",
       "      <td>0.0319</td>\n",
       "      <td>0.058700</td>\n",
       "      <td>0.0000</td>\n",
       "      <td>0.3190</td>\n",
       "      <td>0.560</td>\n",
       "      <td>96.003</td>\n",
       "    </tr>\n",
       "    <tr>\n",
       "      <th>...</th>\n",
       "      <td>...</td>\n",
       "      <td>...</td>\n",
       "      <td>...</td>\n",
       "      <td>...</td>\n",
       "      <td>...</td>\n",
       "      <td>...</td>\n",
       "      <td>...</td>\n",
       "      <td>...</td>\n",
       "      <td>...</td>\n",
       "      <td>...</td>\n",
       "      <td>...</td>\n",
       "    </tr>\n",
       "    <tr>\n",
       "      <th>31zAAYl1b2C8gipN9NZjcx</th>\n",
       "      <td>0.664</td>\n",
       "      <td>0.8620</td>\n",
       "      <td>5</td>\n",
       "      <td>-9.467</td>\n",
       "      <td>0</td>\n",
       "      <td>0.0655</td>\n",
       "      <td>0.000484</td>\n",
       "      <td>0.9130</td>\n",
       "      <td>0.1340</td>\n",
       "      <td>0.584</td>\n",
       "      <td>130.025</td>\n",
       "    </tr>\n",
       "    <tr>\n",
       "      <th>7vchm2bYxlTLcqJk8Bk7nj</th>\n",
       "      <td>0.521</td>\n",
       "      <td>0.9210</td>\n",
       "      <td>2</td>\n",
       "      <td>-5.573</td>\n",
       "      <td>0</td>\n",
       "      <td>0.0498</td>\n",
       "      <td>0.046000</td>\n",
       "      <td>0.1800</td>\n",
       "      <td>0.3970</td>\n",
       "      <td>0.496</td>\n",
       "      <td>137.001</td>\n",
       "    </tr>\n",
       "    <tr>\n",
       "      <th>5gQncDLoBH0DfddK3yp9vY</th>\n",
       "      <td>0.377</td>\n",
       "      <td>0.0801</td>\n",
       "      <td>0</td>\n",
       "      <td>-19.454</td>\n",
       "      <td>1</td>\n",
       "      <td>0.0316</td>\n",
       "      <td>0.924000</td>\n",
       "      <td>0.0000</td>\n",
       "      <td>0.0684</td>\n",
       "      <td>0.307</td>\n",
       "      <td>96.077</td>\n",
       "    </tr>\n",
       "    <tr>\n",
       "      <th>7fejY1szyUVza96SAsYdBd</th>\n",
       "      <td>0.429</td>\n",
       "      <td>0.4550</td>\n",
       "      <td>11</td>\n",
       "      <td>-13.549</td>\n",
       "      <td>0</td>\n",
       "      <td>0.0745</td>\n",
       "      <td>0.130000</td>\n",
       "      <td>0.6910</td>\n",
       "      <td>0.0579</td>\n",
       "      <td>0.619</td>\n",
       "      <td>190.037</td>\n",
       "    </tr>\n",
       "    <tr>\n",
       "      <th>31SqT67qs3a9L6Wq2CR4sV</th>\n",
       "      <td>0.805</td>\n",
       "      <td>0.9430</td>\n",
       "      <td>10</td>\n",
       "      <td>-8.034</td>\n",
       "      <td>0</td>\n",
       "      <td>0.0878</td>\n",
       "      <td>0.246000</td>\n",
       "      <td>0.0334</td>\n",
       "      <td>0.1010</td>\n",
       "      <td>0.881</td>\n",
       "      <td>152.992</td>\n",
       "    </tr>\n",
       "  </tbody>\n",
       "</table>\n",
       "<p>2262191 rows × 11 columns</p>\n",
       "</div>"
      ],
      "text/plain": [
       "                        track_danceability  track_energy  track_key  \\\n",
       "track_spid                                                            \n",
       "7daKhXFKpT9Zw95fCNDMxG               0.458        0.4090          0   \n",
       "3rxTCj1eLJi9BK8ULnVTzQ               0.708        0.9310          7   \n",
       "3fmbY2XhpkIGyz2FexYPtC               0.749        0.7370          0   \n",
       "1emRhNVWm9gg0iKHzuNXGX               0.790        0.6460          6   \n",
       "4Z5ZN04NA27qeBO8RApsaZ               0.600        0.8460          4   \n",
       "...                                    ...           ...        ...   \n",
       "31zAAYl1b2C8gipN9NZjcx               0.664        0.8620          5   \n",
       "7vchm2bYxlTLcqJk8Bk7nj               0.521        0.9210          2   \n",
       "5gQncDLoBH0DfddK3yp9vY               0.377        0.0801          0   \n",
       "7fejY1szyUVza96SAsYdBd               0.429        0.4550         11   \n",
       "31SqT67qs3a9L6Wq2CR4sV               0.805        0.9430         10   \n",
       "\n",
       "                        track_loudness  track_mode  track_speechiness  \\\n",
       "track_spid                                                              \n",
       "7daKhXFKpT9Zw95fCNDMxG         -13.886           1             0.0317   \n",
       "3rxTCj1eLJi9BK8ULnVTzQ          -2.930           0             0.1030   \n",
       "3fmbY2XhpkIGyz2FexYPtC          -8.879           1             0.0833   \n",
       "1emRhNVWm9gg0iKHzuNXGX         -10.956           1             0.0544   \n",
       "4Z5ZN04NA27qeBO8RApsaZ          -5.288           1             0.0319   \n",
       "...                                ...         ...                ...   \n",
       "31zAAYl1b2C8gipN9NZjcx          -9.467           0             0.0655   \n",
       "7vchm2bYxlTLcqJk8Bk7nj          -5.573           0             0.0498   \n",
       "5gQncDLoBH0DfddK3yp9vY         -19.454           1             0.0316   \n",
       "7fejY1szyUVza96SAsYdBd         -13.549           0             0.0745   \n",
       "31SqT67qs3a9L6Wq2CR4sV          -8.034           0             0.0878   \n",
       "\n",
       "                        track_acousticness  track_instrumentalness  \\\n",
       "track_spid                                                           \n",
       "7daKhXFKpT9Zw95fCNDMxG            0.733000                  0.9160   \n",
       "3rxTCj1eLJi9BK8ULnVTzQ            0.137000                  0.0000   \n",
       "3fmbY2XhpkIGyz2FexYPtC            0.079000                  0.4200   \n",
       "1emRhNVWm9gg0iKHzuNXGX            0.008740                  0.9240   \n",
       "4Z5ZN04NA27qeBO8RApsaZ            0.058700                  0.0000   \n",
       "...                                    ...                     ...   \n",
       "31zAAYl1b2C8gipN9NZjcx            0.000484                  0.9130   \n",
       "7vchm2bYxlTLcqJk8Bk7nj            0.046000                  0.1800   \n",
       "5gQncDLoBH0DfddK3yp9vY            0.924000                  0.0000   \n",
       "7fejY1szyUVza96SAsYdBd            0.130000                  0.6910   \n",
       "31SqT67qs3a9L6Wq2CR4sV            0.246000                  0.0334   \n",
       "\n",
       "                        track_liveness  track_valence  track_tempo  \n",
       "track_spid                                                          \n",
       "7daKhXFKpT9Zw95fCNDMxG          0.2300          0.249      167.352  \n",
       "3rxTCj1eLJi9BK8ULnVTzQ          0.5520          0.656      108.030  \n",
       "3fmbY2XhpkIGyz2FexYPtC          0.1050          0.594      134.038  \n",
       "1emRhNVWm9gg0iKHzuNXGX          0.1180          0.575      127.902  \n",
       "4Z5ZN04NA27qeBO8RApsaZ          0.3190          0.560       96.003  \n",
       "...                                ...            ...          ...  \n",
       "31zAAYl1b2C8gipN9NZjcx          0.1340          0.584      130.025  \n",
       "7vchm2bYxlTLcqJk8Bk7nj          0.3970          0.496      137.001  \n",
       "5gQncDLoBH0DfddK3yp9vY          0.0684          0.307       96.077  \n",
       "7fejY1szyUVza96SAsYdBd          0.0579          0.619      190.037  \n",
       "31SqT67qs3a9L6Wq2CR4sV          0.1010          0.881      152.992  \n",
       "\n",
       "[2262191 rows x 11 columns]"
      ]
     },
     "execution_count": 20,
     "metadata": {},
     "output_type": "execute_result"
    }
   ],
   "source": [
    "candidate_df"
   ]
  },
  {
   "cell_type": "code",
   "execution_count": 21,
   "id": "61f3a020-cc10-4919-91e9-240d35236e0b",
   "metadata": {},
   "outputs": [],
   "source": [
    "playlist_song_matches = cosine_similarity(\n",
    "    agg_playlist.to_numpy().reshape(1, -1), \n",
    "    candidate_df\n",
    ")"
   ]
  },
  {
   "cell_type": "code",
   "execution_count": 22,
   "id": "dfc49ee1-1890-4bfe-8ac8-4eb4516b6b4f",
   "metadata": {},
   "outputs": [],
   "source": [
    "playlist_test_songs = set(playlist[\"test\"].iloc[0])"
   ]
  },
  {
   "cell_type": "code",
   "execution_count": 23,
   "id": "cf6485e4-bf16-4dd8-9415-304852795417",
   "metadata": {},
   "outputs": [
    {
     "data": {
      "text/plain": [
       "{'19Js5ypV6JKn4DMExHQbGc',\n",
       " '1Bv0Yl01xBDZD4OQP93fyl',\n",
       " '1Y4ZdPOOgCUhBcKZOrUFiS',\n",
       " '1kusepF3AacIEtUTYrw4GV',\n",
       " '2PpruBYCo4H7WOBJ7Q2EwM',\n",
       " '3jkdQNkDTxxXtjSO4l0o1H',\n",
       " '4E5P1XyAFtrjpiIxkydly4',\n",
       " '4Y45aqo9QMa57rDsAJv40A',\n",
       " '4pmc2AxSEq6g7hPVlJCPyP',\n",
       " '67T6l4q3zVjC5nZZPXByU8',\n",
       " '6GIrIt2M39wEGwjCQjGChX',\n",
       " '6sqNctd7MlJoKDOxPVCAvU',\n",
       " '7DFnq8FYhHMCylykf6ZCxA'}"
      ]
     },
     "execution_count": 23,
     "metadata": {},
     "output_type": "execute_result"
    }
   ],
   "source": [
    "playlist_test_songs"
   ]
  },
  {
   "cell_type": "code",
   "execution_count": 24,
   "id": "6d2221ef-734d-4735-bf92-0684b8a57110",
   "metadata": {},
   "outputs": [],
   "source": [
    "n=len(playlist_test_songs)"
   ]
  },
  {
   "cell_type": "code",
   "execution_count": 25,
   "id": "cbb82489-377f-48a2-92d5-3f9aeab471bc",
   "metadata": {},
   "outputs": [],
   "source": [
    "indices = np.argpartition(playlist_song_matches, -n, axis=1)[:, -n:]"
   ]
  },
  {
   "cell_type": "code",
   "execution_count": 26,
   "id": "58f667dd-7e0d-4cd9-b2c5-fdaa86da51fa",
   "metadata": {},
   "outputs": [],
   "source": [
    "predicted_track_ids = candidate_df.iloc[indices[0]].index"
   ]
  },
  {
   "cell_type": "code",
   "execution_count": 27,
   "id": "07ff94a1-11ae-475f-8deb-868cf742884c",
   "metadata": {},
   "outputs": [
    {
     "data": {
      "text/plain": [
       "Index(['5zUkkQEYvkAnbPpGLBBDa4', '7ExU7Rm36UHTe1wrGmKoxb',\n",
       "       '6sZrQUotv2ERetBoycJpVc', '18SRUOdjtpB42IeNIHmVwQ',\n",
       "       '4kS2PFgTKRd5lnh4QY0GIc', '1T8TMbqVchCQKHhfwGO5kv',\n",
       "       '1FpZJx6RCojuJlvqQwjPu9', '3uKUXYTlA35aEScZWFtSiu',\n",
       "       '5Bunj5XOX1ojVpgWMraiBk', '5MPCNny11psx06Btopb7Kr',\n",
       "       '2IqTUjapeQHpQdbaSkTGNQ', '2vT0ZjqKAaFGSJzrHxDG5W',\n",
       "       '1s9Os30kdCjnxIbJbx3H0e'],\n",
       "      dtype='object', name='track_spid')"
      ]
     },
     "execution_count": 27,
     "metadata": {},
     "output_type": "execute_result"
    }
   ],
   "source": [
    "predicted_track_ids"
   ]
  },
  {
   "cell_type": "code",
   "execution_count": 28,
   "id": "31f58fc0-3443-4d9e-9741-579bf2e5cca9",
   "metadata": {},
   "outputs": [
    {
     "data": {
      "text/plain": [
       "0.0"
      ]
     },
     "execution_count": 28,
     "metadata": {},
     "output_type": "execute_result"
    }
   ],
   "source": [
    "len(set(predicted_track_ids).intersection(playlist_test_songs))/n"
   ]
  },
  {
   "cell_type": "code",
   "execution_count": 29,
   "id": "4b166605-e787-4da9-b15f-d88be92f6d91",
   "metadata": {},
   "outputs": [],
   "source": [
    "# split_mpd_pids_to_tids[\"train_agg\"] = split_mpd_pids_to_tids[\"train\"].apply(\n",
    "#     get_aggregate_track_features, args=(selected_mpd_track_features,), meta=(\"float\"))"
   ]
  },
  {
   "cell_type": "code",
   "execution_count": 30,
   "id": "b5e75ef3-4435-400e-aede-b8b46ead365e",
   "metadata": {},
   "outputs": [],
   "source": [
    "# playlist_training = split_mpd_pids_to_tids[[\"pid\", \"train_agg\", \"test\"]]"
   ]
  },
  {
   "cell_type": "code",
   "execution_count": 31,
   "id": "64098481-3b68-4c1a-8332-6a0ab26e8e61",
   "metadata": {},
   "outputs": [],
   "source": [
    "# catalog.save(\"playlist_training\", playlist_training)"
   ]
  },
  {
   "cell_type": "code",
   "execution_count": 32,
   "id": "c61ce7a8-57ac-4097-8a09-bd8d67b708a7",
   "metadata": {},
   "outputs": [],
   "source": [
    "needed_mpd_pids_to_tids_cats = split_mpd_pids_to_tids[[\"train\",\"test\"]].compute()"
   ]
  },
  {
   "cell_type": "code",
   "execution_count": 33,
   "id": "9aef0059-18f7-4dae-819b-285e4d7c906c",
   "metadata": {},
   "outputs": [],
   "source": [
    "#for now subset for experimentation purposes: using 1/100th\n",
    "#TODO: use dask over the whole dataset\n",
    "row_limit = needed_mpd_pids_to_tids_cats.shape[0]//100000\n",
    "subset_needed_mpd_pids_to_tids_cats = needed_mpd_pids_to_tids_cats.sample(row_limit)"
   ]
  },
  {
   "cell_type": "code",
   "execution_count": 34,
   "id": "18b18710-bd35-4572-9e03-a14565244ae1",
   "metadata": {},
   "outputs": [
    {
     "data": {
      "text/plain": [
       "10"
      ]
     },
     "execution_count": 34,
     "metadata": {},
     "output_type": "execute_result"
    }
   ],
   "source": [
    "subset_needed_mpd_pids_to_tids_cats.shape[0]"
   ]
  },
  {
   "cell_type": "code",
   "execution_count": 35,
   "id": "299a59c2-dbaa-4a79-a637-fa68c1902081",
   "metadata": {},
   "outputs": [],
   "source": [
    "# def get_top_n_predictions(:\n",
    "#         playlist_song_matches = cosine_similarity(\n",
    "#         agg_playlist.to_numpy().reshape(1, -1), \n",
    "#         candidate_df\n",
    "#     )"
   ]
  },
  {
   "cell_type": "code",
   "execution_count": 36,
   "id": "987cbbc7-3fda-4743-8fbb-8123b090e16c",
   "metadata": {},
   "outputs": [],
   "source": [
    "# subset_needed_mpd_pids_to_tids_cats[\"train_vector\"] = subset_needed_mpd_pids_to_tids_cats[\"train\"].progress_apply(\n",
    "#     lambda tids: get_aggregate_track_features(tids, selected_mpd_track_features))"
   ]
  },
  {
   "cell_type": "code",
   "execution_count": 37,
   "id": "ec71ed9b-9600-4625-9cea-8f6a5b11404f",
   "metadata": {},
   "outputs": [],
   "source": [
    "import mlflow"
   ]
  },
  {
   "cell_type": "code",
   "execution_count": 38,
   "id": "8378d346-6a85-4511-8984-7dfc41d8f6f7",
   "metadata": {},
   "outputs": [],
   "source": [
    "# #DB will be a pandas df indexed by the id col you want to query on\n",
    "# class CosineModel(mlflow.pyfunc.PythonModel):\n",
    "    \n",
    "#     def __init__(self, db):\n",
    "#         self.db = db\n",
    "        \n",
    "#     def predict(self, ids, n=5):\n",
    "#         from sklearn.metrics.pairwise import cosine_similarity\n",
    "#         import numpy as np\n",
    "        \n",
    "#         db = self.db\n",
    "#         candidate_df = db[~(db.isin(set(ids)))]\n",
    "#         aggregate_query_feats = self.aggregate(ids)\n",
    "        \n",
    "#         similarities = cosine_similarity(\n",
    "#             aggregate_query_feats.to_numpy().reshape(1, -1), \n",
    "#             candidate_df\n",
    "#         )\n",
    "#         top_n_indices = np.argpartition(similarities, -n, axis=1)[:, -n:]\n",
    "#         top_n_predictions = candidate_df.iloc[top_n_indices[0]].index.tolist()\n",
    "        \n",
    "#         return top_n_predictions\n",
    "        \n",
    "#     def aggregate(self, ids):\n",
    "#         db = self.db\n",
    "#         return db[db.index.isin(set(ids))].mean()\n",
    "    \n",
    "#     def evaluate(self, ids, test_ids):\n",
    "#         n = len(test_ids)\n",
    "#         top_n_predictions = self.predict(ids, n)\n",
    "#         accuracy = len(set(top_n_predictions).intersection(test_ids)) / n\n",
    "#         return accuracy"
   ]
  },
  {
   "cell_type": "code",
   "execution_count": 39,
   "id": "25fb5e1c-383d-4bd4-9b8c-e351df704d63",
   "metadata": {},
   "outputs": [],
   "source": [
    "import sys\n",
    "sys.path.append(\"../\")"
   ]
  },
  {
   "cell_type": "code",
   "execution_count": 40,
   "id": "2f4dab4f-8b7a-4b5d-9883-31b58af03651",
   "metadata": {},
   "outputs": [],
   "source": [
    "from spotify_recommendations.extras.mlflow.models import CosineModel"
   ]
  },
  {
   "cell_type": "code",
   "execution_count": 41,
   "id": "01e220d3-1d1f-456d-a875-c4cf9f0f5192",
   "metadata": {},
   "outputs": [],
   "source": [
    "cosine_model = CosineModel(selected_mpd_track_features)"
   ]
  },
  {
   "cell_type": "code",
   "execution_count": 42,
   "id": "79f6d19d-6205-415a-afc9-d2c97c398326",
   "metadata": {},
   "outputs": [
    {
     "name": "stdout",
     "output_type": "stream",
     "text": [
      "CPU times: user 4.07 s, sys: 1.61 s, total: 5.68 s\n",
      "Wall time: 5.67 s\n"
     ]
    },
    {
     "data": {
      "text/plain": [
       "['18SRUOdjtpB42IeNIHmVwQ',\n",
       " '1FpZJx6RCojuJlvqQwjPu9',\n",
       " '2IqTUjapeQHpQdbaSkTGNQ',\n",
       " '2vT0ZjqKAaFGSJzrHxDG5W',\n",
       " '1s9Os30kdCjnxIbJbx3H0e']"
      ]
     },
     "execution_count": 42,
     "metadata": {},
     "output_type": "execute_result"
    }
   ],
   "source": [
    "%%time\n",
    "cosine_model.predict(playlist_tids)"
   ]
  },
  {
   "cell_type": "code",
   "execution_count": 43,
   "id": "4a522ef4-ad05-4011-83f8-232dae7882e6",
   "metadata": {},
   "outputs": [
    {
     "name": "stdout",
     "output_type": "stream",
     "text": [
      "CPU times: user 3.53 s, sys: 750 ms, total: 4.28 s\n",
      "Wall time: 3.81 s\n"
     ]
    },
    {
     "data": {
      "text/plain": [
       "0.0"
      ]
     },
     "execution_count": 43,
     "metadata": {},
     "output_type": "execute_result"
    }
   ],
   "source": [
    "%%time\n",
    "cosine_model.evaluate(playlist_tids, playlist_test_songs)"
   ]
  },
  {
   "cell_type": "code",
   "execution_count": 44,
   "id": "77a38a2c-0be0-4faf-9bb4-b0a7a74fbe99",
   "metadata": {},
   "outputs": [
    {
     "data": {
      "application/vnd.jupyter.widget-view+json": {
       "model_id": "053f06b79cb240f283aaf16b740201f8",
       "version_major": 2,
       "version_minor": 0
      },
      "text/plain": [
       "  0%|          | 0/10 [00:00<?, ?it/s]"
      ]
     },
     "metadata": {},
     "output_type": "display_data"
    }
   ],
   "source": [
    "all_scores = subset_needed_mpd_pids_to_tids_cats.progress_apply(lambda row: cosine_model.evaluate(row[\"train\"], row[\"test\"]), axis=1)"
   ]
  },
  {
   "cell_type": "code",
   "execution_count": 50,
   "id": "9267520f-d218-4273-98b4-6cd29c3c6871",
   "metadata": {},
   "outputs": [
    {
     "name": "stdout",
     "output_type": "stream",
     "text": [
      "2021-08-26 12:36:42,034 - kedro.io.data_catalog - INFO - Saving data to `cosine_model` (PickleDataSet)...\n"
     ]
    },
    {
     "ename": "DataSetError",
     "evalue": "<class 'spotify_recommendations.extras.mlflow.models.CosineModel'> was not serialized due to: Can't pickle <class 'spotify_recommendations.extras.mlflow.models.CosineModel'>: it's not the same object as spotify_recommendations.extras.mlflow.models.CosineModel",
     "output_type": "error",
     "traceback": [
      "\u001b[0;31m---------------------------------------------------------------------------\u001b[0m",
      "\u001b[0;31mPicklingError\u001b[0m                             Traceback (most recent call last)",
      "\u001b[0;32m~/Documents/PERSONAL/spotify_playlists/spotify-recommender-training/.venv/lib/python3.8/site-packages/kedro/extras/datasets/pickle/pickle_dataset.py\u001b[0m in \u001b[0;36m_save\u001b[0;34m(self, data)\u001b[0m\n\u001b[1;32m    211\u001b[0m             \u001b[0;32mtry\u001b[0m\u001b[0;34m:\u001b[0m\u001b[0;34m\u001b[0m\u001b[0;34m\u001b[0m\u001b[0m\n\u001b[0;32m--> 212\u001b[0;31m                 \u001b[0mself\u001b[0m\u001b[0;34m.\u001b[0m\u001b[0mBACKENDS\u001b[0m\u001b[0;34m[\u001b[0m\u001b[0mself\u001b[0m\u001b[0;34m.\u001b[0m\u001b[0m_backend\u001b[0m\u001b[0;34m]\u001b[0m\u001b[0;34m.\u001b[0m\u001b[0mdump\u001b[0m\u001b[0;34m(\u001b[0m\u001b[0mdata\u001b[0m\u001b[0;34m,\u001b[0m \u001b[0mfs_file\u001b[0m\u001b[0;34m,\u001b[0m \u001b[0;34m**\u001b[0m\u001b[0mself\u001b[0m\u001b[0;34m.\u001b[0m\u001b[0m_save_args\u001b[0m\u001b[0;34m)\u001b[0m\u001b[0;34m\u001b[0m\u001b[0;34m\u001b[0m\u001b[0m\n\u001b[0m\u001b[1;32m    213\u001b[0m             \u001b[0;32mexcept\u001b[0m \u001b[0mException\u001b[0m \u001b[0;32mas\u001b[0m \u001b[0mexc\u001b[0m\u001b[0;34m:\u001b[0m\u001b[0;34m\u001b[0m\u001b[0;34m\u001b[0m\u001b[0m\n",
      "\u001b[0;31mPicklingError\u001b[0m: Can't pickle <class 'spotify_recommendations.extras.mlflow.models.CosineModel'>: it's not the same object as spotify_recommendations.extras.mlflow.models.CosineModel",
      "\nThe above exception was the direct cause of the following exception:\n",
      "\u001b[0;31mDataSetError\u001b[0m                              Traceback (most recent call last)",
      "\u001b[0;32m/var/folders/_d/7z1fg0x945xbzsdtwf15y4780000gn/T/ipykernel_90016/1056753128.py\u001b[0m in \u001b[0;36m<module>\u001b[0;34m\u001b[0m\n\u001b[0;32m----> 1\u001b[0;31m \u001b[0mcatalog\u001b[0m\u001b[0;34m.\u001b[0m\u001b[0msave\u001b[0m\u001b[0;34m(\u001b[0m\u001b[0;34m\"cosine_model\"\u001b[0m\u001b[0;34m,\u001b[0m \u001b[0mcosine_model\u001b[0m\u001b[0;34m)\u001b[0m\u001b[0;34m\u001b[0m\u001b[0;34m\u001b[0m\u001b[0m\n\u001b[0m",
      "\u001b[0;32m~/Documents/PERSONAL/spotify_playlists/spotify-recommender-training/.venv/lib/python3.8/site-packages/kedro/io/data_catalog.py\u001b[0m in \u001b[0;36msave\u001b[0;34m(self, name, data)\u001b[0m\n\u001b[1;32m    447\u001b[0m \u001b[0;34m\u001b[0m\u001b[0m\n\u001b[1;32m    448\u001b[0m         \u001b[0mfunc\u001b[0m \u001b[0;34m=\u001b[0m \u001b[0mself\u001b[0m\u001b[0;34m.\u001b[0m\u001b[0m_get_transformed_dataset_function\u001b[0m\u001b[0;34m(\u001b[0m\u001b[0mname\u001b[0m\u001b[0;34m,\u001b[0m \u001b[0;34m\"save\"\u001b[0m\u001b[0;34m,\u001b[0m \u001b[0mdataset\u001b[0m\u001b[0;34m)\u001b[0m\u001b[0;34m\u001b[0m\u001b[0;34m\u001b[0m\u001b[0m\n\u001b[0;32m--> 449\u001b[0;31m         \u001b[0mfunc\u001b[0m\u001b[0;34m(\u001b[0m\u001b[0mdata\u001b[0m\u001b[0;34m)\u001b[0m\u001b[0;34m\u001b[0m\u001b[0;34m\u001b[0m\u001b[0m\n\u001b[0m\u001b[1;32m    450\u001b[0m \u001b[0;34m\u001b[0m\u001b[0m\n\u001b[1;32m    451\u001b[0m         version = (\n",
      "\u001b[0;32m~/Documents/PERSONAL/spotify_playlists/spotify-recommender-training/.venv/lib/python3.8/site-packages/kedro/io/core.py\u001b[0m in \u001b[0;36msave\u001b[0;34m(self, data)\u001b[0m\n\u001b[1;32m    618\u001b[0m         \u001b[0msave_version\u001b[0m \u001b[0;34m=\u001b[0m \u001b[0mself\u001b[0m\u001b[0;34m.\u001b[0m\u001b[0mresolve_save_version\u001b[0m\u001b[0;34m(\u001b[0m\u001b[0;34m)\u001b[0m  \u001b[0;31m# Make sure last save version is set\u001b[0m\u001b[0;34m\u001b[0m\u001b[0;34m\u001b[0m\u001b[0m\n\u001b[1;32m    619\u001b[0m         \u001b[0;32mtry\u001b[0m\u001b[0;34m:\u001b[0m\u001b[0;34m\u001b[0m\u001b[0;34m\u001b[0m\u001b[0m\n\u001b[0;32m--> 620\u001b[0;31m             \u001b[0msuper\u001b[0m\u001b[0;34m(\u001b[0m\u001b[0;34m)\u001b[0m\u001b[0;34m.\u001b[0m\u001b[0msave\u001b[0m\u001b[0;34m(\u001b[0m\u001b[0mdata\u001b[0m\u001b[0;34m)\u001b[0m\u001b[0;34m\u001b[0m\u001b[0;34m\u001b[0m\u001b[0m\n\u001b[0m\u001b[1;32m    621\u001b[0m         \u001b[0;32mexcept\u001b[0m \u001b[0;34m(\u001b[0m\u001b[0mFileNotFoundError\u001b[0m\u001b[0;34m,\u001b[0m \u001b[0mNotADirectoryError\u001b[0m\u001b[0;34m)\u001b[0m \u001b[0;32mas\u001b[0m \u001b[0merr\u001b[0m\u001b[0;34m:\u001b[0m\u001b[0;34m\u001b[0m\u001b[0;34m\u001b[0m\u001b[0m\n\u001b[1;32m    622\u001b[0m             \u001b[0;31m# FileNotFoundError raised in Win, NotADirectoryError raised in Unix\u001b[0m\u001b[0;34m\u001b[0m\u001b[0;34m\u001b[0m\u001b[0;34m\u001b[0m\u001b[0m\n",
      "\u001b[0;32m~/Documents/PERSONAL/spotify_playlists/spotify-recommender-training/.venv/lib/python3.8/site-packages/kedro/io/core.py\u001b[0m in \u001b[0;36msave\u001b[0;34m(self, data)\u001b[0m\n\u001b[1;32m    234\u001b[0m         \u001b[0;32mtry\u001b[0m\u001b[0;34m:\u001b[0m\u001b[0;34m\u001b[0m\u001b[0;34m\u001b[0m\u001b[0m\n\u001b[1;32m    235\u001b[0m             \u001b[0mself\u001b[0m\u001b[0;34m.\u001b[0m\u001b[0m_logger\u001b[0m\u001b[0;34m.\u001b[0m\u001b[0mdebug\u001b[0m\u001b[0;34m(\u001b[0m\u001b[0;34m\"Saving %s\"\u001b[0m\u001b[0;34m,\u001b[0m \u001b[0mstr\u001b[0m\u001b[0;34m(\u001b[0m\u001b[0mself\u001b[0m\u001b[0;34m)\u001b[0m\u001b[0;34m)\u001b[0m\u001b[0;34m\u001b[0m\u001b[0;34m\u001b[0m\u001b[0m\n\u001b[0;32m--> 236\u001b[0;31m             \u001b[0mself\u001b[0m\u001b[0;34m.\u001b[0m\u001b[0m_save\u001b[0m\u001b[0;34m(\u001b[0m\u001b[0mdata\u001b[0m\u001b[0;34m)\u001b[0m\u001b[0;34m\u001b[0m\u001b[0;34m\u001b[0m\u001b[0m\n\u001b[0m\u001b[1;32m    237\u001b[0m         \u001b[0;32mexcept\u001b[0m \u001b[0mDataSetError\u001b[0m\u001b[0;34m:\u001b[0m\u001b[0;34m\u001b[0m\u001b[0;34m\u001b[0m\u001b[0m\n\u001b[1;32m    238\u001b[0m             \u001b[0;32mraise\u001b[0m\u001b[0;34m\u001b[0m\u001b[0;34m\u001b[0m\u001b[0m\n",
      "\u001b[0;32m~/Documents/PERSONAL/spotify_playlists/spotify-recommender-training/.venv/lib/python3.8/site-packages/kedro/extras/datasets/pickle/pickle_dataset.py\u001b[0m in \u001b[0;36m_save\u001b[0;34m(self, data)\u001b[0m\n\u001b[1;32m    212\u001b[0m                 \u001b[0mself\u001b[0m\u001b[0;34m.\u001b[0m\u001b[0mBACKENDS\u001b[0m\u001b[0;34m[\u001b[0m\u001b[0mself\u001b[0m\u001b[0;34m.\u001b[0m\u001b[0m_backend\u001b[0m\u001b[0;34m]\u001b[0m\u001b[0;34m.\u001b[0m\u001b[0mdump\u001b[0m\u001b[0;34m(\u001b[0m\u001b[0mdata\u001b[0m\u001b[0;34m,\u001b[0m \u001b[0mfs_file\u001b[0m\u001b[0;34m,\u001b[0m \u001b[0;34m**\u001b[0m\u001b[0mself\u001b[0m\u001b[0;34m.\u001b[0m\u001b[0m_save_args\u001b[0m\u001b[0;34m)\u001b[0m\u001b[0;34m\u001b[0m\u001b[0;34m\u001b[0m\u001b[0m\n\u001b[1;32m    213\u001b[0m             \u001b[0;32mexcept\u001b[0m \u001b[0mException\u001b[0m \u001b[0;32mas\u001b[0m \u001b[0mexc\u001b[0m\u001b[0;34m:\u001b[0m\u001b[0;34m\u001b[0m\u001b[0;34m\u001b[0m\u001b[0m\n\u001b[0;32m--> 214\u001b[0;31m                 raise DataSetError(\n\u001b[0m\u001b[1;32m    215\u001b[0m                     \u001b[0;34mf\"{data.__class__} was not serialized due to: {exc}\"\u001b[0m\u001b[0;34m\u001b[0m\u001b[0;34m\u001b[0m\u001b[0m\n\u001b[1;32m    216\u001b[0m                 ) from exc\n",
      "\u001b[0;31mDataSetError\u001b[0m: <class 'spotify_recommendations.extras.mlflow.models.CosineModel'> was not serialized due to: Can't pickle <class 'spotify_recommendations.extras.mlflow.models.CosineModel'>: it's not the same object as spotify_recommendations.extras.mlflow.models.CosineModel"
     ]
    }
   ],
   "source": [
    "catalog.save(\"cosine_model\", cosine_model)"
   ]
  },
  {
   "cell_type": "code",
   "execution_count": null,
   "id": "211b4dc9-57ed-4d61-8066-25bcc8c58cbd",
   "metadata": {},
   "outputs": [],
   "source": []
  }
 ],
 "metadata": {
  "kernelspec": {
   "display_name": "SpotifyRecommendations",
   "language": "python",
   "name": "python3"
  },
  "language_info": {
   "codemirror_mode": {
    "name": "ipython",
    "version": 3
   },
   "file_extension": ".py",
   "mimetype": "text/x-python",
   "name": "python",
   "nbconvert_exporter": "python",
   "pygments_lexer": "ipython3",
   "version": "3.8.11"
  }
 },
 "nbformat": 4,
 "nbformat_minor": 5
}
