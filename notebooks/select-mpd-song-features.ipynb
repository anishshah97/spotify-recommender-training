{
 "cells": [
  {
   "cell_type": "code",
   "execution_count": 1,
   "id": "d4c217f3-d0c5-4548-91c5-eeba941f0e2b",
   "metadata": {},
   "outputs": [
    {
     "name": "stdout",
     "output_type": "stream",
     "text": [
      "2021-08-24 12:18:35,968 - root - INFO - Registered hooks from 2 installed plugin(s): kedro-mlflow-0.7.3\n",
      "2021-08-24 12:18:36,072 - kedro.framework.session.store - INFO - `read()` not implemented for `BaseSessionStore`. Assuming empty store.\n",
      "2021-08-24 12:18:36,419 - root - INFO - ** Kedro project Spotify Recommendations\n",
      "2021-08-24 12:18:36,420 - root - INFO - Defined global variable `context`, `session` and `catalog`\n",
      "2021-08-24 12:18:36,432 - root - INFO - Registered line magic `run_viz`\n"
     ]
    }
   ],
   "source": [
    "%reload_kedro\n",
    "catalog = context.catalog"
   ]
  },
  {
   "cell_type": "code",
   "execution_count": null,
   "id": "a4aca7d4-e9d4-41e2-95b2-f4feefff1444",
   "metadata": {},
   "outputs": [],
   "source": [
    "import dask.dataframe as dd\n",
    "import dask.distributed as d_dist\n",
    "from dask.dataframe.core import repartition\n",
    "from dask.distributed import Client"
   ]
  },
  {
   "cell_type": "code",
   "execution_count": null,
   "id": "a917be51-eee2-483a-9ac9-d2a04c25cb4c",
   "metadata": {},
   "outputs": [],
   "source": [
    "client = d_dist.client._get_global_client() or Client()"
   ]
  },
  {
   "cell_type": "code",
   "execution_count": 2,
   "id": "c3f0084c-81fd-4b38-8e60-0c9646059ebe",
   "metadata": {},
   "outputs": [
    {
     "name": "stdout",
     "output_type": "stream",
     "text": [
      "2021-08-24 12:18:36,455 - kedro.io.data_catalog - INFO - Loading data from `mpd_track_features` (ParquetDataSet)...\n"
     ]
    }
   ],
   "source": [
    "mpd_track_features = catalog.load(\"mpd_track_features\")"
   ]
  },
  {
   "cell_type": "code",
   "execution_count": 3,
   "id": "c9a13638-8e17-4897-b1fa-57bd0a66dca0",
   "metadata": {},
   "outputs": [
    {
     "data": {
      "text/html": [
       "<div>\n",
       "<style scoped>\n",
       "    .dataframe tbody tr th:only-of-type {\n",
       "        vertical-align: middle;\n",
       "    }\n",
       "\n",
       "    .dataframe tbody tr th {\n",
       "        vertical-align: top;\n",
       "    }\n",
       "\n",
       "    .dataframe thead th {\n",
       "        text-align: right;\n",
       "    }\n",
       "</style>\n",
       "<table border=\"1\" class=\"dataframe\">\n",
       "  <thead>\n",
       "    <tr style=\"text-align: right;\">\n",
       "      <th></th>\n",
       "      <th>track_danceability</th>\n",
       "      <th>track_energy</th>\n",
       "      <th>track_key</th>\n",
       "      <th>track_loudness</th>\n",
       "      <th>track_mode</th>\n",
       "      <th>track_speechiness</th>\n",
       "      <th>track_acousticness</th>\n",
       "      <th>track_instrumentalness</th>\n",
       "      <th>track_liveness</th>\n",
       "      <th>track_valence</th>\n",
       "      <th>track_tempo</th>\n",
       "      <th>track_type</th>\n",
       "      <th>track_spid</th>\n",
       "      <th>track_uri</th>\n",
       "      <th>track_track_href</th>\n",
       "      <th>track_analysis_url</th>\n",
       "      <th>track_duration_ms</th>\n",
       "      <th>track_time_signature</th>\n",
       "      <th>time_pulled</th>\n",
       "    </tr>\n",
       "  </thead>\n",
       "  <tbody>\n",
       "    <tr>\n",
       "      <th>0</th>\n",
       "      <td>0.458</td>\n",
       "      <td>0.409</td>\n",
       "      <td>0</td>\n",
       "      <td>-13.886</td>\n",
       "      <td>1</td>\n",
       "      <td>0.0317</td>\n",
       "      <td>0.733</td>\n",
       "      <td>0.916</td>\n",
       "      <td>0.23</td>\n",
       "      <td>0.249</td>\n",
       "      <td>167.352</td>\n",
       "      <td>audio_features</td>\n",
       "      <td>7daKhXFKpT9Zw95fCNDMxG</td>\n",
       "      <td>spotify:track:7daKhXFKpT9Zw95fCNDMxG</td>\n",
       "      <td>https://api.spotify.com/v1/tracks/7daKhXFKpT9Z...</td>\n",
       "      <td>https://api.spotify.com/v1/audio-analysis/7daK...</td>\n",
       "      <td>348333</td>\n",
       "      <td>4</td>\n",
       "      <td>2021-08-23T21:47:42.002035+00:00</td>\n",
       "    </tr>\n",
       "  </tbody>\n",
       "</table>\n",
       "</div>"
      ],
      "text/plain": [
       "   track_danceability  track_energy  track_key  track_loudness  track_mode  \\\n",
       "0               0.458         0.409          0         -13.886           1   \n",
       "\n",
       "   track_speechiness  track_acousticness  track_instrumentalness  \\\n",
       "0             0.0317               0.733                   0.916   \n",
       "\n",
       "   track_liveness  track_valence  track_tempo      track_type  \\\n",
       "0            0.23          0.249      167.352  audio_features   \n",
       "\n",
       "               track_spid                             track_uri  \\\n",
       "0  7daKhXFKpT9Zw95fCNDMxG  spotify:track:7daKhXFKpT9Zw95fCNDMxG   \n",
       "\n",
       "                                    track_track_href  \\\n",
       "0  https://api.spotify.com/v1/tracks/7daKhXFKpT9Z...   \n",
       "\n",
       "                                  track_analysis_url  track_duration_ms  \\\n",
       "0  https://api.spotify.com/v1/audio-analysis/7daK...             348333   \n",
       "\n",
       "   track_time_signature                       time_pulled  \n",
       "0                     4  2021-08-23T21:47:42.002035+00:00  "
      ]
     },
     "execution_count": 3,
     "metadata": {},
     "output_type": "execute_result"
    }
   ],
   "source": [
    "mpd_track_features.head(1)"
   ]
  },
  {
   "cell_type": "code",
   "execution_count": 4,
   "id": "c177718a-de3f-4d3c-a1c9-2668ecea8331",
   "metadata": {},
   "outputs": [],
   "source": [
    "desired_spotify_track_features = [\n",
    "    \"track_spid\",\n",
    "    \"track_danceability\",\n",
    "    \"track_energy\",\n",
    "    \"track_key\",\n",
    "    \"track_loudness\",\n",
    "    \"track_mode\",\n",
    "    \"track_speechiness\",\n",
    "    \"track_acousticness\",\n",
    "    \"track_instrumentalness\",\n",
    "    \"track_liveness\",\n",
    "    \"track_valence\",\n",
    "    \"track_tempo\",\n",
    "]"
   ]
  },
  {
   "cell_type": "code",
   "execution_count": 5,
   "id": "14315b8c-a64d-4825-9188-280b966d909e",
   "metadata": {},
   "outputs": [],
   "source": [
    "selected_mpd_track_features = mpd_track_features[desired_spotify_track_features]"
   ]
  },
  {
   "cell_type": "code",
   "execution_count": 6,
   "id": "fb271fbb-93b5-4754-a2c5-9a154a67ad02",
   "metadata": {},
   "outputs": [
    {
     "name": "stdout",
     "output_type": "stream",
     "text": [
      "2021-08-24 12:18:36,729 - kedro.io.data_catalog - INFO - Saving data to `selected_mpd_track_features` (ParquetDataSet)...\n"
     ]
    }
   ],
   "source": [
    "catalog.save(\"selected_mpd_track_features\", selected_mpd_track_features)"
   ]
  }
 ],
 "metadata": {
  "kernelspec": {
   "display_name": "SpotifyRecommendations",
   "language": "python",
   "name": "python3"
  },
  "language_info": {
   "codemirror_mode": {
    "name": "ipython",
    "version": 3
   },
   "file_extension": ".py",
   "mimetype": "text/x-python",
   "name": "python",
   "nbconvert_exporter": "python",
   "pygments_lexer": "ipython3",
   "version": "3.8.11"
  }
 },
 "nbformat": 4,
 "nbformat_minor": 5
}
