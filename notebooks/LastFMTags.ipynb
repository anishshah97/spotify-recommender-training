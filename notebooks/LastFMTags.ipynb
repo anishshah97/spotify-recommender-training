{
 "cells": [
  {
   "cell_type": "code",
   "execution_count": 4,
   "metadata": {},
   "outputs": [
    {
     "data": {
      "text/plain": [
       "True"
      ]
     },
     "execution_count": 4,
     "metadata": {},
     "output_type": "execute_result"
    }
   ],
   "source": [
    "import os\n",
    "from dotenv import load_dotenv, find_dotenv\n",
    "load_dotenv(find_dotenv())"
   ]
  },
  {
   "cell_type": "code",
   "execution_count": 34,
   "metadata": {},
   "outputs": [],
   "source": [
    "USER_AGENT = 'Dataquest'"
   ]
  },
  {
   "cell_type": "code",
   "execution_count": 35,
   "metadata": {},
   "outputs": [
    {
     "data": {
      "text/plain": [
       "200"
      ]
     },
     "execution_count": 35,
     "metadata": {},
     "output_type": "execute_result"
    }
   ],
   "source": [
    "import requests\n",
    "\n",
    "headers = {\n",
    "    'user-agent': USER_AGENT\n",
    "}\n",
    "\n",
    "payload = {\n",
    "    'api_key': os.environ[\"LAST_FM_API_KEY\"],\n",
    "    'method': 'track.getInfo',\n",
    "    'format': 'json',\n",
    "    \"track\": \"Warm\",\n",
    "    \"artist\": \"SG Lewis\"\n",
    "}\n",
    "\n",
    "r = requests.get('http://ws.audioscrobbler.com/2.0/', headers=headers, params=payload)\n",
    "r.status_code"
   ]
  },
  {
   "cell_type": "code",
   "execution_count": 36,
   "metadata": {},
   "outputs": [],
   "source": [
    "import json"
   ]
  },
  {
   "cell_type": "code",
   "execution_count": 38,
   "metadata": {},
   "outputs": [
    {
     "data": {
      "text/plain": [
       "'{\"track\": {\"name\": \"Warm\", \"url\": \"https://www.last.fm/music/SG+Lewis/_/Warm\", \"duration\": \"286000\", \"streamable\": {\"#text\": \"0\", \"fulltrack\": \"0\"}, \"listeners\": \"64983\", \"playcount\": \"301620\", \"artist\": {\"name\": \"SG Lewis\", \"url\": \"https://www.last.fm/music/SG+Lewis\"}, \"album\": {\"artist\": \"SG Lewis\", \"title\": \"Warm\", \"url\": \"https://www.last.fm/music/SG+Lewis/Warm\", \"image\": [{\"#text\": \"https://lastfm.freetls.fastly.net/i/u/34s/a776525c06aa60275ee7ece8ad1f6b0f.png\", \"size\": \"small\"}, {\"#text\": \"https://lastfm.freetls.fastly.net/i/u/64s/a776525c06aa60275ee7ece8ad1f6b0f.png\", \"size\": \"medium\"}, {\"#text\": \"https://lastfm.freetls.fastly.net/i/u/174s/a776525c06aa60275ee7ece8ad1f6b0f.png\", \"size\": \"large\"}, {\"#text\": \"https://lastfm.freetls.fastly.net/i/u/300x300/a776525c06aa60275ee7ece8ad1f6b0f.png\", \"size\": \"extralarge\"}]}, \"toptags\": {\"tag\": [{\"name\": \"electronic\", \"url\": \"https://www.last.fm/tag/electronic\"}, {\"name\": \"british\", \"url\": \"https://www.last.fm/tag/british\"}, {\"name\": \"relaxing\", \"url\": \"https://www.last.fm/tag/relaxing\"}, {\"name\": \"2015\", \"url\": \"https://www.last.fm/tag/2015\"}, {\"name\": \"2015 single\", \"url\": \"https://www.last.fm/tag/2015+single\"}]}}}'"
      ]
     },
     "execution_count": 38,
     "metadata": {},
     "output_type": "execute_result"
    }
   ],
   "source": [
    "json.dumps(r.json())"
   ]
  },
  {
   "cell_type": "code",
   "execution_count": null,
   "metadata": {},
   "outputs": [],
   "source": []
  }
 ],
 "metadata": {
  "kernelspec": {
   "display_name": "Python 3",
   "language": "python",
   "name": "python3"
  },
  "language_info": {
   "codemirror_mode": {
    "name": "ipython",
    "version": 3
   },
   "file_extension": ".py",
   "mimetype": "text/x-python",
   "name": "python",
   "nbconvert_exporter": "python",
   "pygments_lexer": "ipython3",
   "version": "3.8.5"
  }
 },
 "nbformat": 4,
 "nbformat_minor": 4
}
