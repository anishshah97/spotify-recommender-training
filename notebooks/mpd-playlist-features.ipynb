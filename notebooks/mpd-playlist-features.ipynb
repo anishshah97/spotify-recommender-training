{
 "cells": [
  {
   "cell_type": "code",
   "execution_count": 1,
   "id": "7118d7fe-5a05-48b9-b36f-d8fd0fc9b06c",
   "metadata": {},
   "outputs": [
    {
     "name": "stdout",
     "output_type": "stream",
     "text": [
      "2021-08-24 11:56:33,364 - root - INFO - Registered hooks from 2 installed plugin(s): kedro-mlflow-0.7.3\n",
      "2021-08-24 11:56:33,452 - kedro.framework.session.store - INFO - `read()` not implemented for `BaseSessionStore`. Assuming empty store.\n",
      "2021-08-24 11:56:33,747 - root - INFO - ** Kedro project Spotify Recommendations\n",
      "2021-08-24 11:56:33,749 - root - INFO - Defined global variable `context`, `session` and `catalog`\n",
      "2021-08-24 11:56:33,758 - root - INFO - Registered line magic `run_viz`\n"
     ]
    }
   ],
   "source": [
    "%reload_kedro\n",
    "catalog = context.catalog"
   ]
  },
  {
   "cell_type": "code",
   "execution_count": 3,
   "id": "7d0d96c7-952e-4616-9f95-4232f66a2185",
   "metadata": {},
   "outputs": [],
   "source": [
    "import dask.dataframe as dd\n",
    "import dask.distributed as d_dist\n",
    "from dask.dataframe.core import repartition\n",
    "from dask.distributed import Client"
   ]
  },
  {
   "cell_type": "code",
   "execution_count": 4,
   "id": "c454b93a-7ca8-4fdc-b88d-94950a458e13",
   "metadata": {},
   "outputs": [
    {
     "name": "stderr",
     "output_type": "stream",
     "text": [
      "distributed.diskutils - INFO - Found stale lock file and directory '/Users/i854336/Documents/PERSONAL/spotify_playlists/spotify-recommender-training/notebooks/dask-worker-space/worker-u0u1rma1', purging\n",
      "distributed.diskutils - INFO - Found stale lock file and directory '/Users/i854336/Documents/PERSONAL/spotify_playlists/spotify-recommender-training/notebooks/dask-worker-space/worker-sdnjpj_d', purging\n"
     ]
    }
   ],
   "source": [
    "client = d_dist.client._get_global_client() or Client()"
   ]
  },
  {
   "cell_type": "code",
   "execution_count": 2,
   "id": "3a0fcc4c-01d4-43d2-a69f-05cfed1f7899",
   "metadata": {},
   "outputs": [
    {
     "name": "stdout",
     "output_type": "stream",
     "text": [
      "2021-08-24 11:56:33,778 - kedro.io.data_catalog - INFO - Loading data from `cleaned_mpd_playlists` (ParquetDataSet)...\n"
     ]
    }
   ],
   "source": [
    "cleaned_mpd_playlists = catalog.load(\"cleaned_mpd_playlists\")"
   ]
  },
  {
   "cell_type": "code",
   "execution_count": 5,
   "id": "d0f98bbf-2ca1-475f-b0c0-56a131f73bcb",
   "metadata": {},
   "outputs": [],
   "source": [
    "playlist_feature_cols = [\n",
    "    \"pid\",\n",
    "    \"name\",\n",
    "    \"collaborative\",\n",
    "    \"modified_at\",\n",
    "    \"num_followers\",\n",
    "    \"num_edits\"\n",
    "]"
   ]
  },
  {
   "cell_type": "code",
   "execution_count": 6,
   "id": "d3a652d6-b8cb-4a34-9de6-a040d2cc2e71",
   "metadata": {},
   "outputs": [],
   "source": [
    "# cleaned_mpd_playlists = cleaned_mpd_playlists.astype({\"name\": \"string\", \"collaborative\" : \"bool\"})"
   ]
  },
  {
   "cell_type": "code",
   "execution_count": 7,
   "id": "81823837-c571-4a05-8c84-62b0206149eb",
   "metadata": {},
   "outputs": [],
   "source": [
    "def str2bool(v): # Note the self to allow it to be in a class\n",
    "    return v.lower() in ('yes', 'true', 't', '1', 'yea', 'verily')  # lower() is a method"
   ]
  },
  {
   "cell_type": "code",
   "execution_count": 8,
   "id": "a71fd18c-7659-42c3-a00a-986ce85a589e",
   "metadata": {},
   "outputs": [],
   "source": [
    "def convert_text_bool_to_python_bool(val):\n",
    "    return str2bool(val)"
   ]
  },
  {
   "cell_type": "code",
   "execution_count": 9,
   "id": "2ad569e2-f2b9-45bd-8194-fd5605826e86",
   "metadata": {},
   "outputs": [],
   "source": [
    "cleaned_mpd_playlists[\"collaborative\"] = (\n",
    "    cleaned_mpd_playlists[\"collaborative\"]\n",
    "    .map(convert_text_bool_to_python_bool)\n",
    ")"
   ]
  },
  {
   "cell_type": "code",
   "execution_count": 10,
   "id": "61f0e606-18fa-4efd-9a49-a4aca823eff2",
   "metadata": {},
   "outputs": [],
   "source": [
    "from datetime import datetime"
   ]
  },
  {
   "cell_type": "code",
   "execution_count": 11,
   "id": "7fa1d896-021c-4b13-9c67-b41b3073f73b",
   "metadata": {},
   "outputs": [],
   "source": [
    "cleaned_mpd_playlists[\"modified_at\"] = (\n",
    "    cleaned_mpd_playlists[\"modified_at\"]\n",
    "    .map(datetime.utcfromtimestamp)\n",
    ")"
   ]
  },
  {
   "cell_type": "code",
   "execution_count": 12,
   "id": "6410922f-72dc-4216-a515-3215ddbe7f2a",
   "metadata": {},
   "outputs": [
    {
     "data": {
      "text/plain": [
       "0   2017-04-29\n",
       "1   2017-09-28\n",
       "2   2017-09-18\n",
       "Name: modified_at, dtype: datetime64[ns]"
      ]
     },
     "execution_count": 12,
     "metadata": {},
     "output_type": "execute_result"
    }
   ],
   "source": [
    "cleaned_mpd_playlists[\"modified_at\"].head(3)"
   ]
  },
  {
   "cell_type": "code",
   "execution_count": 14,
   "id": "21efb36b-d0e3-467d-90c5-baed8ca2777c",
   "metadata": {},
   "outputs": [
    {
     "name": "stdout",
     "output_type": "stream",
     "text": [
      "2021-08-24 11:56:49,248 - kedro.io.data_catalog - INFO - Saving data to `selected_mpd_playlist_features` (ParquetDataSet)...\n"
     ]
    }
   ],
   "source": [
    "catalog.save(\"selected_mpd_playlist_features\", cleaned_mpd_playlists)"
   ]
  },
  {
   "cell_type": "code",
   "execution_count": null,
   "id": "65d42ecb-3fa5-446f-be9a-5662d471b397",
   "metadata": {},
   "outputs": [],
   "source": []
  }
 ],
 "metadata": {
  "kernelspec": {
   "display_name": "SpotifyRecommendations",
   "language": "python",
   "name": "python3"
  },
  "language_info": {
   "codemirror_mode": {
    "name": "ipython",
    "version": 3
   },
   "file_extension": ".py",
   "mimetype": "text/x-python",
   "name": "python",
   "nbconvert_exporter": "python",
   "pygments_lexer": "ipython3",
   "version": "3.8.11"
  }
 },
 "nbformat": 4,
 "nbformat_minor": 5
}
